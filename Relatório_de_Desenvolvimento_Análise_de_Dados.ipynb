{
  "nbformat": 4,
  "nbformat_minor": 0,
  "metadata": {
    "colab": {
      "provenance": []
    },
    "kernelspec": {
      "name": "python3",
      "display_name": "Python 3"
    },
    "language_info": {
      "name": "python"
    }
  },
  "cells": [
    {
      "cell_type": "markdown",
      "source": [
        "# **Relatório de Desenvolvimento - Análise de Dados**"
      ],
      "metadata": {
        "id": "6Yv7-kA9R9qu"
      }
    },
    {
      "cell_type": "markdown",
      "source": [
        "- O Relatório a seguir irá demonstrar os resultados de uma análise feita com base nos dados fornecidos pela empresa 'Softwarlex'. Fornecendo insights sobre o progresso do projeto, e oferecendo informações para ajudar no decorrer do desenvolvimento, como: Possíveis pontos de melhoria, e melhor tomada de decisões."
      ],
      "metadata": {
        "id": "XnZOsH_mR_u9"
      }
    },
    {
      "cell_type": "markdown",
      "source": [
        "- A tabela abaixo contém dados coletados de uma semana de desenvolvimento da equipe, contendo: Dias da semana, horas trabalhadas, bugs corrigidos e tarefas concluídas."
      ],
      "metadata": {
        "id": "pUxxiKaZWRHF"
      }
    },
    {
      "cell_type": "code",
      "source": [
        "# Chamada das libs\n",
        "import pandas as pd\n",
        "import matplotlib.pyplot as mpl"
      ],
      "metadata": {
        "id": "W7NS4NQBWyJZ"
      },
      "execution_count": null,
      "outputs": []
    },
    {
      "cell_type": "code",
      "source": [
        "# Dados da semana fornecidos pela empresa\n",
        "dados_fornecidos = {\n",
        "    'Dia': ['Segunda', 'Terça', 'Quarta', 'Quinta', 'Sexta', 'Sábado', 'Domingo'],\n",
        "    'Horas Trabalhadas': [6,7,8,6,7,5,4],\n",
        "    'Bugs Corrigidos' : [3,2,1,4,3,2,1],\n",
        "    'Tarefas Concluídas' : [5,4,6,4,5,3,2]\n",
        "}\n",
        "\n",
        "# Criação do DataFrame\n",
        "df_dados_semanais = pd.DataFrame(dados_fornecidos)\n",
        "df_dados_semanais"
      ],
      "metadata": {
        "colab": {
          "base_uri": "https://localhost:8080/",
          "height": 269
        },
        "id": "w3Jdt7z0XiTN",
        "outputId": "6ddeeb31-5d27-49f1-9ab5-8cd451aa8e25"
      },
      "execution_count": 92,
      "outputs": [
        {
          "output_type": "execute_result",
          "data": {
            "text/plain": [
              "       Dia  Horas Trabalhadas  Bugs Corrigidos  Tarefas Concluídas\n",
              "0  Segunda                  6                3                   5\n",
              "1    Terça                  7                2                   4\n",
              "2   Quarta                  8                1                   6\n",
              "3   Quinta                  6                4                   4\n",
              "4    Sexta                  7                3                   5\n",
              "5   Sábado                  5                2                   3\n",
              "6  Domingo                  4                1                   2"
            ],
            "text/html": [
              "\n",
              "\n",
              "  <div id=\"df-f93b656d-f035-4a0b-8668-1b9b8f04d6b6\">\n",
              "    <div class=\"colab-df-container\">\n",
              "      <div>\n",
              "<style scoped>\n",
              "    .dataframe tbody tr th:only-of-type {\n",
              "        vertical-align: middle;\n",
              "    }\n",
              "\n",
              "    .dataframe tbody tr th {\n",
              "        vertical-align: top;\n",
              "    }\n",
              "\n",
              "    .dataframe thead th {\n",
              "        text-align: right;\n",
              "    }\n",
              "</style>\n",
              "<table border=\"1\" class=\"dataframe\">\n",
              "  <thead>\n",
              "    <tr style=\"text-align: right;\">\n",
              "      <th></th>\n",
              "      <th>Dia</th>\n",
              "      <th>Horas Trabalhadas</th>\n",
              "      <th>Bugs Corrigidos</th>\n",
              "      <th>Tarefas Concluídas</th>\n",
              "    </tr>\n",
              "  </thead>\n",
              "  <tbody>\n",
              "    <tr>\n",
              "      <th>0</th>\n",
              "      <td>Segunda</td>\n",
              "      <td>6</td>\n",
              "      <td>3</td>\n",
              "      <td>5</td>\n",
              "    </tr>\n",
              "    <tr>\n",
              "      <th>1</th>\n",
              "      <td>Terça</td>\n",
              "      <td>7</td>\n",
              "      <td>2</td>\n",
              "      <td>4</td>\n",
              "    </tr>\n",
              "    <tr>\n",
              "      <th>2</th>\n",
              "      <td>Quarta</td>\n",
              "      <td>8</td>\n",
              "      <td>1</td>\n",
              "      <td>6</td>\n",
              "    </tr>\n",
              "    <tr>\n",
              "      <th>3</th>\n",
              "      <td>Quinta</td>\n",
              "      <td>6</td>\n",
              "      <td>4</td>\n",
              "      <td>4</td>\n",
              "    </tr>\n",
              "    <tr>\n",
              "      <th>4</th>\n",
              "      <td>Sexta</td>\n",
              "      <td>7</td>\n",
              "      <td>3</td>\n",
              "      <td>5</td>\n",
              "    </tr>\n",
              "    <tr>\n",
              "      <th>5</th>\n",
              "      <td>Sábado</td>\n",
              "      <td>5</td>\n",
              "      <td>2</td>\n",
              "      <td>3</td>\n",
              "    </tr>\n",
              "    <tr>\n",
              "      <th>6</th>\n",
              "      <td>Domingo</td>\n",
              "      <td>4</td>\n",
              "      <td>1</td>\n",
              "      <td>2</td>\n",
              "    </tr>\n",
              "  </tbody>\n",
              "</table>\n",
              "</div>\n",
              "      <button class=\"colab-df-convert\" onclick=\"convertToInteractive('df-f93b656d-f035-4a0b-8668-1b9b8f04d6b6')\"\n",
              "              title=\"Convert this dataframe to an interactive table.\"\n",
              "              style=\"display:none;\">\n",
              "\n",
              "  <svg xmlns=\"http://www.w3.org/2000/svg\" height=\"24px\"viewBox=\"0 0 24 24\"\n",
              "       width=\"24px\">\n",
              "    <path d=\"M0 0h24v24H0V0z\" fill=\"none\"/>\n",
              "    <path d=\"M18.56 5.44l.94 2.06.94-2.06 2.06-.94-2.06-.94-.94-2.06-.94 2.06-2.06.94zm-11 1L8.5 8.5l.94-2.06 2.06-.94-2.06-.94L8.5 2.5l-.94 2.06-2.06.94zm10 10l.94 2.06.94-2.06 2.06-.94-2.06-.94-.94-2.06-.94 2.06-2.06.94z\"/><path d=\"M17.41 7.96l-1.37-1.37c-.4-.4-.92-.59-1.43-.59-.52 0-1.04.2-1.43.59L10.3 9.45l-7.72 7.72c-.78.78-.78 2.05 0 2.83L4 21.41c.39.39.9.59 1.41.59.51 0 1.02-.2 1.41-.59l7.78-7.78 2.81-2.81c.8-.78.8-2.07 0-2.86zM5.41 20L4 18.59l7.72-7.72 1.47 1.35L5.41 20z\"/>\n",
              "  </svg>\n",
              "      </button>\n",
              "\n",
              "\n",
              "\n",
              "    <div id=\"df-6fdd218a-0027-4cfa-a0b0-f1501150fa64\">\n",
              "      <button class=\"colab-df-quickchart\" onclick=\"quickchart('df-6fdd218a-0027-4cfa-a0b0-f1501150fa64')\"\n",
              "              title=\"Suggest charts.\"\n",
              "              style=\"display:none;\">\n",
              "\n",
              "<svg xmlns=\"http://www.w3.org/2000/svg\" height=\"24px\"viewBox=\"0 0 24 24\"\n",
              "     width=\"24px\">\n",
              "    <g>\n",
              "        <path d=\"M19 3H5c-1.1 0-2 .9-2 2v14c0 1.1.9 2 2 2h14c1.1 0 2-.9 2-2V5c0-1.1-.9-2-2-2zM9 17H7v-7h2v7zm4 0h-2V7h2v10zm4 0h-2v-4h2v4z\"/>\n",
              "    </g>\n",
              "</svg>\n",
              "      </button>\n",
              "    </div>\n",
              "\n",
              "<style>\n",
              "  .colab-df-quickchart {\n",
              "    background-color: #E8F0FE;\n",
              "    border: none;\n",
              "    border-radius: 50%;\n",
              "    cursor: pointer;\n",
              "    display: none;\n",
              "    fill: #1967D2;\n",
              "    height: 32px;\n",
              "    padding: 0 0 0 0;\n",
              "    width: 32px;\n",
              "  }\n",
              "\n",
              "  .colab-df-quickchart:hover {\n",
              "    background-color: #E2EBFA;\n",
              "    box-shadow: 0px 1px 2px rgba(60, 64, 67, 0.3), 0px 1px 3px 1px rgba(60, 64, 67, 0.15);\n",
              "    fill: #174EA6;\n",
              "  }\n",
              "\n",
              "  [theme=dark] .colab-df-quickchart {\n",
              "    background-color: #3B4455;\n",
              "    fill: #D2E3FC;\n",
              "  }\n",
              "\n",
              "  [theme=dark] .colab-df-quickchart:hover {\n",
              "    background-color: #434B5C;\n",
              "    box-shadow: 0px 1px 3px 1px rgba(0, 0, 0, 0.15);\n",
              "    filter: drop-shadow(0px 1px 2px rgba(0, 0, 0, 0.3));\n",
              "    fill: #FFFFFF;\n",
              "  }\n",
              "</style>\n",
              "\n",
              "    <script>\n",
              "      async function quickchart(key) {\n",
              "        const containerElement = document.querySelector('#' + key);\n",
              "        const charts = await google.colab.kernel.invokeFunction(\n",
              "            'suggestCharts', [key], {});\n",
              "      }\n",
              "    </script>\n",
              "\n",
              "      <script>\n",
              "\n",
              "function displayQuickchartButton(domScope) {\n",
              "  let quickchartButtonEl =\n",
              "    domScope.querySelector('#df-6fdd218a-0027-4cfa-a0b0-f1501150fa64 button.colab-df-quickchart');\n",
              "  quickchartButtonEl.style.display =\n",
              "    google.colab.kernel.accessAllowed ? 'block' : 'none';\n",
              "}\n",
              "\n",
              "        displayQuickchartButton(document);\n",
              "      </script>\n",
              "      <style>\n",
              "    .colab-df-container {\n",
              "      display:flex;\n",
              "      flex-wrap:wrap;\n",
              "      gap: 12px;\n",
              "    }\n",
              "\n",
              "    .colab-df-convert {\n",
              "      background-color: #E8F0FE;\n",
              "      border: none;\n",
              "      border-radius: 50%;\n",
              "      cursor: pointer;\n",
              "      display: none;\n",
              "      fill: #1967D2;\n",
              "      height: 32px;\n",
              "      padding: 0 0 0 0;\n",
              "      width: 32px;\n",
              "    }\n",
              "\n",
              "    .colab-df-convert:hover {\n",
              "      background-color: #E2EBFA;\n",
              "      box-shadow: 0px 1px 2px rgba(60, 64, 67, 0.3), 0px 1px 3px 1px rgba(60, 64, 67, 0.15);\n",
              "      fill: #174EA6;\n",
              "    }\n",
              "\n",
              "    [theme=dark] .colab-df-convert {\n",
              "      background-color: #3B4455;\n",
              "      fill: #D2E3FC;\n",
              "    }\n",
              "\n",
              "    [theme=dark] .colab-df-convert:hover {\n",
              "      background-color: #434B5C;\n",
              "      box-shadow: 0px 1px 3px 1px rgba(0, 0, 0, 0.15);\n",
              "      filter: drop-shadow(0px 1px 2px rgba(0, 0, 0, 0.3));\n",
              "      fill: #FFFFFF;\n",
              "    }\n",
              "  </style>\n",
              "\n",
              "      <script>\n",
              "        const buttonEl =\n",
              "          document.querySelector('#df-f93b656d-f035-4a0b-8668-1b9b8f04d6b6 button.colab-df-convert');\n",
              "        buttonEl.style.display =\n",
              "          google.colab.kernel.accessAllowed ? 'block' : 'none';\n",
              "\n",
              "        async function convertToInteractive(key) {\n",
              "          const element = document.querySelector('#df-f93b656d-f035-4a0b-8668-1b9b8f04d6b6');\n",
              "          const dataTable =\n",
              "            await google.colab.kernel.invokeFunction('convertToInteractive',\n",
              "                                                     [key], {});\n",
              "          if (!dataTable) return;\n",
              "\n",
              "          const docLinkHtml = 'Like what you see? Visit the ' +\n",
              "            '<a target=\"_blank\" href=https://colab.research.google.com/notebooks/data_table.ipynb>data table notebook</a>'\n",
              "            + ' to learn more about interactive tables.';\n",
              "          element.innerHTML = '';\n",
              "          dataTable['output_type'] = 'display_data';\n",
              "          await google.colab.output.renderOutput(dataTable, element);\n",
              "          const docLink = document.createElement('div');\n",
              "          docLink.innerHTML = docLinkHtml;\n",
              "          element.appendChild(docLink);\n",
              "        }\n",
              "      </script>\n",
              "    </div>\n",
              "  </div>\n"
            ]
          },
          "metadata": {},
          "execution_count": 92
        }
      ]
    },
    {
      "cell_type": "markdown",
      "source": [
        "- Será mostrado um relátorio de progresso diário para mostrar a produtividade de trabalhho dos funcionários. Serão feitos cálculos seguindo métricas dos itens abaixo:"
      ],
      "metadata": {
        "id": "J2ECUTmlanpu"
      }
    },
    {
      "cell_type": "markdown",
      "source": [
        "- ° Total de Horas Trabalhadas\n",
        "- ° Média Diária de Horas Trabalhadas\n",
        "- ° Total de Bugs Corrigidos\n",
        "- ° Média Diária de Bugs Corrigidos\n",
        "- ° Total de Tarefas Concluídas\n",
        "- ° Média Diária de Tarefas Concluídas\n",
        "- ° Produtividade Diária (Tarefas Concluídas por Hora)\n",
        "\n",
        "\n",
        "\n"
      ],
      "metadata": {
        "id": "Geoc2OVmbn_F"
      }
    },
    {
      "cell_type": "markdown",
      "source": [
        "## **Horas trabalhadas**"
      ],
      "metadata": {
        "id": "eMlsZBAHckkA"
      }
    },
    {
      "cell_type": "code",
      "source": [
        "# Total de horas trabalhadas pela equipe\n",
        "horas_trabalhadas_total = sum([6,7,8,6,7,5,4])\n",
        "print('O Total de horas trabalhadas pela equipe na semana foi de:', horas_trabalhadas_total, 'horas')"
      ],
      "metadata": {
        "colab": {
          "base_uri": "https://localhost:8080/"
        },
        "id": "IqnxTSTmdByC",
        "outputId": "cd6e1d49-75f5-45e4-b528-48f767149492"
      },
      "execution_count": null,
      "outputs": [
        {
          "output_type": "stream",
          "name": "stdout",
          "text": [
            "O Total de horas trabalhadas pela equipe foi de: 43 horas\n"
          ]
        }
      ]
    },
    {
      "cell_type": "code",
      "source": [
        "# Média das horas trabalhadas por dia pela equipe\n",
        "horas_trabalhadas_media = horas_trabalhadas_total / 7\n",
        "print('A Média de horas trabalhadas pela equipe por dia foi de: %.2f' % horas_trabalhadas_media, 'horas')"
      ],
      "metadata": {
        "colab": {
          "base_uri": "https://localhost:8080/"
        },
        "id": "ZzLvIIZkervA",
        "outputId": "bc9d6027-6e75-4a20-adac-7f3cf05abf68"
      },
      "execution_count": null,
      "outputs": [
        {
          "output_type": "stream",
          "name": "stdout",
          "text": [
            "A Média de horas trabalhadas pela equipe foi de: 6.14 horas\n"
          ]
        }
      ]
    },
    {
      "cell_type": "code",
      "source": [
        "# Criação do gráfico de horas trabalhadas durante a semana, por dia da semana\n",
        "# Setando figura e eixos\n",
        "fig, (ax1) = mpl.subplots(1, figsize=(8,5))\n",
        "ax1.bar(\n",
        "    dados_fornecidos['Dia'],\n",
        "    dados_fornecidos['Horas Trabalhadas'],\n",
        "    color='red')\n",
        "\n",
        "# Setando a figura do gráfico\n",
        "ax1.set_title('Horas Trabalhadas durante a semana')\n",
        "\n",
        "# Mostrar o gráfico\n",
        "fig = mpl.gcf()\n",
        "mpl.show()\n"
      ],
      "metadata": {
        "colab": {
          "base_uri": "https://localhost:8080/",
          "height": 468
        },
        "id": "tIy75_SBgfkK",
        "outputId": "de1bb9c6-249d-4435-dc60-5a6f45913579"
      },
      "execution_count": null,
      "outputs": [
        {
          "output_type": "display_data",
          "data": {
            "text/plain": [
              "<Figure size 800x500 with 1 Axes>"
            ],
            "image/png": "[encoded data removed]"
          },
          "metadata": {}
        }
      ]
    },
    {
      "cell_type": "markdown",
      "source": [
        "- Registrar o tempo de trabalho é extremamente importante para qualquer projeto. Ter noção de quanto tempo está sendo tomado é fundamental para saber se a eficiência da equipe está alta. Analisando os dados obtidos, temos as seguintes informações:\n",
        "\n",
        "- ° O **total de horas** trabalhadas pela equipe foi de **43 horas**.\n",
        "- ° Pico de horas atingido na **Quarta**, com um total de **8 horas**.\n",
        "- ° Menor número de horas registrado no **Domingo**, com **4 horas** no total.\n",
        "- ° **Média** diária de horas trabalhadas ficou em **6.14**"
      ],
      "metadata": {
        "id": "9Vleh_lhjC9V"
      }
    },
    {
      "cell_type": "markdown",
      "source": [
        "## **Bugs Corrigidos**"
      ],
      "metadata": {
        "id": "EHqlKPkZmtCQ"
      }
    },
    {
      "cell_type": "code",
      "source": [
        "# Total de bugs corrigidos pela equipe\n",
        "bugs_corrigidos_total = sum([3, 2, 1, 4, 3, 2, 1])\n",
        "print('O Total de bugs corrigidos pela equipe na semana foi de:', bugs_corrigidos_total, 'bugs')"
      ],
      "metadata": {
        "colab": {
          "base_uri": "https://localhost:8080/"
        },
        "id": "I-UFeq8Aph3X",
        "outputId": "359281ca-3d49-408f-ed2b-73617561ed2c"
      },
      "execution_count": null,
      "outputs": [
        {
          "output_type": "stream",
          "name": "stdout",
          "text": [
            "O Total de bugs corrigidos pela equipe foi de: 16 bugs\n"
          ]
        }
      ]
    },
    {
      "cell_type": "code",
      "source": [
        "# Média de bugs corrigidos por dia pela equipe\n",
        "bugs_corrigidos_media = bugs_corrigidos_total / 7\n",
        "print('A Média de bugs corrigidos por dia pela equipe foi de: %.2f' % bugs_corrigidos_media, 'bugs')"
      ],
      "metadata": {
        "colab": {
          "base_uri": "https://localhost:8080/"
        },
        "id": "YxaN9TV5qcNy",
        "outputId": "1f56459f-76f0-4d79-a408-90445b652014"
      },
      "execution_count": null,
      "outputs": [
        {
          "output_type": "stream",
          "name": "stdout",
          "text": [
            "A Média de bugs corrigidos por dia pela equipe foi de: 2.29 bugs\n"
          ]
        }
      ]
    },
    {
      "cell_type": "code",
      "source": [
        "# Criação do gráfico de bugs corrigidos durante a semana, por dia da semana\n",
        "# Setando figura e eixos\n",
        "fig, (ax1) = mpl.subplots(1, figsize=(8,5))\n",
        "ax1.bar(\n",
        "    dados_fornecidos['Dia'],\n",
        "    dados_fornecidos['Bugs Corrigidos'],\n",
        "    color='green')\n",
        "\n",
        "# Setando a figura do gráfico\n",
        "ax1.set_title('Bugs Corrigidos durante a semana')\n",
        "\n",
        "# Mostrar o gráfico\n",
        "fig = mpl.gcf()\n",
        "mpl.show()"
      ],
      "metadata": {
        "colab": {
          "base_uri": "https://localhost:8080/",
          "height": 468
        },
        "id": "kOomcMD9q7Bm",
        "outputId": "beb06dbd-e59f-4a04-c0ce-d5611a896060"
      },
      "execution_count": null,
      "outputs": [
        {
          "output_type": "display_data",
          "data": {
            "text/plain": [
              "<Figure size 800x500 with 1 Axes>"
            ],
            "image/png": "[encoded data removed]"
          },
          "metadata": {}
        }
      ]
    },
    {
      "cell_type": "markdown",
      "source": [
        "- Um dos maiores problemas no desenvolvimento de algo novo, com certeza são os diversos bugs encontrados pelo caminho, é muito importante a rápida detecção desses bugs, para a imediata correção, e assim seguir com o planejado do projeto, com os dados fornecidos, conseguimos identificar as seguintes informações:\n",
        "\n",
        "- ° O **total de bugs corrigidos** pela equipe durante a semana foi de: **16 bugs**.\n",
        "- ° O Pico de correções aconteceu na **Quinta**, com um total de **4 bugs**. Número total foi decaindo ao longo da semana, o que mostra um bom desenvolvimento após isso.\n",
        "- ° Menor número de bugs corrigidos registrado no **Domingo**, empatado com a **Quarta**, com **1 bug corrigido** apenas.\n",
        "- ° A **Média** diária de bugs corrigidos ficou em **2.29**"
      ],
      "metadata": {
        "id": "oY-xL1jLr2Zq"
      }
    },
    {
      "cell_type": "markdown",
      "source": [
        "## **Tarefas Concluídas**"
      ],
      "metadata": {
        "id": "U2b7-1Aktsdh"
      }
    },
    {
      "cell_type": "code",
      "source": [
        "# Total de tarefas concluídas pela equipe\n",
        "tarefas_concluidas_total = sum([5, 4, 6, 4, 5, 3, 2])\n",
        "print('O Total de tarefas concluídas pela equipe na semana foi de: ', tarefas_concluidas_total, 'tarefas')"
      ],
      "metadata": {
        "colab": {
          "base_uri": "https://localhost:8080/"
        },
        "id": "3eTpI_JyvFz7",
        "outputId": "e7ca7743-3217-42b9-f9d4-fb3774e09bc6"
      },
      "execution_count": null,
      "outputs": [
        {
          "output_type": "stream",
          "name": "stdout",
          "text": [
            "O Total de tarefas concluídas pela equipe na semana foi de:  29 tarefas\n"
          ]
        }
      ]
    },
    {
      "cell_type": "code",
      "source": [
        "# Média de tarefas concluídas por dia pela equipe\n",
        "tarefas_concluidas_media = tarefas_concluidas_total / 7\n",
        "print('A Média de tarefas concluídas por dia pela equipe foi de: %.2f' % tarefas_concluidas_media, 'tarefas')"
      ],
      "metadata": {
        "colab": {
          "base_uri": "https://localhost:8080/"
        },
        "id": "0OJhGV8QvkGm",
        "outputId": "ff4d8c0e-9704-4bfe-becd-56513989089f"
      },
      "execution_count": null,
      "outputs": [
        {
          "output_type": "stream",
          "name": "stdout",
          "text": [
            "A Média de tarefas concluídas por dia pela equipe foi de: 4.14 tarefas\n"
          ]
        }
      ]
    },
    {
      "cell_type": "code",
      "source": [
        "# Criação do gráfico de tarefas concluidas durante a semana, por dia da semana\n",
        "# Setando figura e eixos\n",
        "fig, (ax1) = mpl.subplots(1, figsize=(8,5))\n",
        "ax1.bar(\n",
        "    dados_fornecidos['Dia'],\n",
        "    dados_fornecidos['Tarefas Concluídas'],\n",
        "    color='blue')\n",
        "\n",
        "# Setando a figura do gráfico\n",
        "ax1.set_title('Tarefas Concluídas durante a semana')\n",
        "\n",
        "# Mostrar o gráfico\n",
        "fig = mpl.gcf()\n",
        "mpl.show()"
      ],
      "metadata": {
        "colab": {
          "base_uri": "https://localhost:8080/",
          "height": 468
        },
        "id": "qf1UqJ71wUdH",
        "outputId": "8897ef33-d340-4c4d-bc77-fcaa7704f102"
      },
      "execution_count": null,
      "outputs": [
        {
          "output_type": "display_data",
          "data": {
            "text/plain": [
              "<Figure size 800x500 with 1 Axes>"
            ],
            "image/png": "[encoded data removed]"
          },
          "metadata": {}
        }
      ]
    },
    {
      "cell_type": "markdown",
      "source": [
        "- Acompanhar o andamento do das atividades sem dúvidas é primordial para quem quer estar no caminho certo do desenvolvimento de algum projeto, tanto para medir produtividade como para saber se está indo tudo conforme o prazo dado ao cliente. De acordo com os dados obtidos temos as seguintes informações:\n",
        "\n",
        "- ° O **total de tarefas concluídas** pela equipe durante a semana foi de: **29 tarefas**.\n",
        "- ° O Pico de correções aconteceu na **Quarta**, com um total de **6 entregas**. Número total foi decaindo ao longo da semana.\n",
        "- ° O Menor número de tarefas concluídas foi registrado no **Domingo**, com **2 tarefas concluídas** apenas. E mostrando uma queda significante durante o final de semana.\n",
        "- ° A **Média** diária de tarefas entregues ficou em **4.14**"
      ],
      "metadata": {
        "id": "3JnNoCKXx6C_"
      }
    },
    {
      "cell_type": "markdown",
      "source": [
        "## **Produtividade Diária**"
      ],
      "metadata": {
        "id": "ElYuXeH33v7B"
      }
    },
    {
      "cell_type": "code",
      "source": [
        "# Adicionando uma nova coluna chamada 'Produtividade Diária, que são as tabelas de Tarefas concluídas e Bugs Corrigidos somadas'\n",
        "df_dados_semanais['P. Produtividade Diária'] = (df_dados_semanais['Tarefas Concluídas'] +df_dados_semanais['Bugs Corrigidos'])\n",
        "\n",
        "# Adicionando uma nova coluna chamada 'Média de Produtividade por Hora' que é a tabela de produtividade diária dividida pelas horas diárias\n",
        "df_dados_semanais['Média de P. Produtividade por Hora'] = (df_dados_semanais['P. Produtividade Diária'] /df_dados_semanais['Horas Trabalhadas']).round(2)\n",
        "\n",
        "# Exibe o DataFrame atualizado com as novas tabelas\n",
        "df_dados_semanais"
      ],
      "metadata": {
        "colab": {
          "base_uri": "https://localhost:8080/",
          "height": 269
        },
        "id": "jH23HAV74ZNm",
        "outputId": "373448cc-847a-4962-ad52-4f31e4378577"
      },
      "execution_count": 94,
      "outputs": [
        {
          "output_type": "execute_result",
          "data": {
            "text/plain": [
              "       Dia  Horas Trabalhadas  Bugs Corrigidos  Tarefas Concluídas  \\\n",
              "0  Segunda                  6                3                   5   \n",
              "1    Terça                  7                2                   4   \n",
              "2   Quarta                  8                1                   6   \n",
              "3   Quinta                  6                4                   4   \n",
              "4    Sexta                  7                3                   5   \n",
              "5   Sábado                  5                2                   3   \n",
              "6  Domingo                  4                1                   2   \n",
              "\n",
              "   P. Produtividade Diária  Média de P. Produtividade por Hora  \n",
              "0                        8                                1.33  \n",
              "1                        6                                0.86  \n",
              "2                        7                                0.88  \n",
              "3                        8                                1.33  \n",
              "4                        8                                1.14  \n",
              "5                        5                                1.00  \n",
              "6                        3                                0.75  "
            ],
            "text/html": [
              "\n",
              "\n",
              "  <div id=\"df-daeac983-c304-438e-b4c9-1aa7674b0323\">\n",
              "    <div class=\"colab-df-container\">\n",
              "      <div>\n",
              "<style scoped>\n",
              "    .dataframe tbody tr th:only-of-type {\n",
              "        vertical-align: middle;\n",
              "    }\n",
              "\n",
              "    .dataframe tbody tr th {\n",
              "        vertical-align: top;\n",
              "    }\n",
              "\n",
              "    .dataframe thead th {\n",
              "        text-align: right;\n",
              "    }\n",
              "</style>\n",
              "<table border=\"1\" class=\"dataframe\">\n",
              "  <thead>\n",
              "    <tr style=\"text-align: right;\">\n",
              "      <th></th>\n",
              "      <th>Dia</th>\n",
              "      <th>Horas Trabalhadas</th>\n",
              "      <th>Bugs Corrigidos</th>\n",
              "      <th>Tarefas Concluídas</th>\n",
              "      <th>P. Produtividade Diária</th>\n",
              "      <th>Média de P. Produtividade por Hora</th>\n",
              "    </tr>\n",
              "  </thead>\n",
              "  <tbody>\n",
              "    <tr>\n",
              "      <th>0</th>\n",
              "      <td>Segunda</td>\n",
              "      <td>6</td>\n",
              "      <td>3</td>\n",
              "      <td>5</td>\n",
              "      <td>8</td>\n",
              "      <td>1.33</td>\n",
              "    </tr>\n",
              "    <tr>\n",
              "      <th>1</th>\n",
              "      <td>Terça</td>\n",
              "      <td>7</td>\n",
              "      <td>2</td>\n",
              "      <td>4</td>\n",
              "      <td>6</td>\n",
              "      <td>0.86</td>\n",
              "    </tr>\n",
              "    <tr>\n",
              "      <th>2</th>\n",
              "      <td>Quarta</td>\n",
              "      <td>8</td>\n",
              "      <td>1</td>\n",
              "      <td>6</td>\n",
              "      <td>7</td>\n",
              "      <td>0.88</td>\n",
              "    </tr>\n",
              "    <tr>\n",
              "      <th>3</th>\n",
              "      <td>Quinta</td>\n",
              "      <td>6</td>\n",
              "      <td>4</td>\n",
              "      <td>4</td>\n",
              "      <td>8</td>\n",
              "      <td>1.33</td>\n",
              "    </tr>\n",
              "    <tr>\n",
              "      <th>4</th>\n",
              "      <td>Sexta</td>\n",
              "      <td>7</td>\n",
              "      <td>3</td>\n",
              "      <td>5</td>\n",
              "      <td>8</td>\n",
              "      <td>1.14</td>\n",
              "    </tr>\n",
              "    <tr>\n",
              "      <th>5</th>\n",
              "      <td>Sábado</td>\n",
              "      <td>5</td>\n",
              "      <td>2</td>\n",
              "      <td>3</td>\n",
              "      <td>5</td>\n",
              "      <td>1.00</td>\n",
              "    </tr>\n",
              "    <tr>\n",
              "      <th>6</th>\n",
              "      <td>Domingo</td>\n",
              "      <td>4</td>\n",
              "      <td>1</td>\n",
              "      <td>2</td>\n",
              "      <td>3</td>\n",
              "      <td>0.75</td>\n",
              "    </tr>\n",
              "  </tbody>\n",
              "</table>\n",
              "</div>\n",
              "      <button class=\"colab-df-convert\" onclick=\"convertToInteractive('df-daeac983-c304-438e-b4c9-1aa7674b0323')\"\n",
              "              title=\"Convert this dataframe to an interactive table.\"\n",
              "              style=\"display:none;\">\n",
              "\n",
              "  <svg xmlns=\"http://www.w3.org/2000/svg\" height=\"24px\"viewBox=\"0 0 24 24\"\n",
              "       width=\"24px\">\n",
              "    <path d=\"M0 0h24v24H0V0z\" fill=\"none\"/>\n",
              "    <path d=\"M18.56 5.44l.94 2.06.94-2.06 2.06-.94-2.06-.94-.94-2.06-.94 2.06-2.06.94zm-11 1L8.5 8.5l.94-2.06 2.06-.94-2.06-.94L8.5 2.5l-.94 2.06-2.06.94zm10 10l.94 2.06.94-2.06 2.06-.94-2.06-.94-.94-2.06-.94 2.06-2.06.94z\"/><path d=\"M17.41 7.96l-1.37-1.37c-.4-.4-.92-.59-1.43-.59-.52 0-1.04.2-1.43.59L10.3 9.45l-7.72 7.72c-.78.78-.78 2.05 0 2.83L4 21.41c.39.39.9.59 1.41.59.51 0 1.02-.2 1.41-.59l7.78-7.78 2.81-2.81c.8-.78.8-2.07 0-2.86zM5.41 20L4 18.59l7.72-7.72 1.47 1.35L5.41 20z\"/>\n",
              "  </svg>\n",
              "      </button>\n",
              "\n",
              "\n",
              "\n",
              "    <div id=\"df-3b97c178-3ca9-451a-b43c-e893366d4271\">\n",
              "      <button class=\"colab-df-quickchart\" onclick=\"quickchart('df-3b97c178-3ca9-451a-b43c-e893366d4271')\"\n",
              "              title=\"Suggest charts.\"\n",
              "              style=\"display:none;\">\n",
              "\n",
              "<svg xmlns=\"http://www.w3.org/2000/svg\" height=\"24px\"viewBox=\"0 0 24 24\"\n",
              "     width=\"24px\">\n",
              "    <g>\n",
              "        <path d=\"M19 3H5c-1.1 0-2 .9-2 2v14c0 1.1.9 2 2 2h14c1.1 0 2-.9 2-2V5c0-1.1-.9-2-2-2zM9 17H7v-7h2v7zm4 0h-2V7h2v10zm4 0h-2v-4h2v4z\"/>\n",
              "    </g>\n",
              "</svg>\n",
              "      </button>\n",
              "    </div>\n",
              "\n",
              "<style>\n",
              "  .colab-df-quickchart {\n",
              "    background-color: #E8F0FE;\n",
              "    border: none;\n",
              "    border-radius: 50%;\n",
              "    cursor: pointer;\n",
              "    display: none;\n",
              "    fill: #1967D2;\n",
              "    height: 32px;\n",
              "    padding: 0 0 0 0;\n",
              "    width: 32px;\n",
              "  }\n",
              "\n",
              "  .colab-df-quickchart:hover {\n",
              "    background-color: #E2EBFA;\n",
              "    box-shadow: 0px 1px 2px rgba(60, 64, 67, 0.3), 0px 1px 3px 1px rgba(60, 64, 67, 0.15);\n",
              "    fill: #174EA6;\n",
              "  }\n",
              "\n",
              "  [theme=dark] .colab-df-quickchart {\n",
              "    background-color: #3B4455;\n",
              "    fill: #D2E3FC;\n",
              "  }\n",
              "\n",
              "  [theme=dark] .colab-df-quickchart:hover {\n",
              "    background-color: #434B5C;\n",
              "    box-shadow: 0px 1px 3px 1px rgba(0, 0, 0, 0.15);\n",
              "    filter: drop-shadow(0px 1px 2px rgba(0, 0, 0, 0.3));\n",
              "    fill: #FFFFFF;\n",
              "  }\n",
              "</style>\n",
              "\n",
              "    <script>\n",
              "      async function quickchart(key) {\n",
              "        const containerElement = document.querySelector('#' + key);\n",
              "        const charts = await google.colab.kernel.invokeFunction(\n",
              "            'suggestCharts', [key], {});\n",
              "      }\n",
              "    </script>\n",
              "\n",
              "      <script>\n",
              "\n",
              "function displayQuickchartButton(domScope) {\n",
              "  let quickchartButtonEl =\n",
              "    domScope.querySelector('#df-3b97c178-3ca9-451a-b43c-e893366d4271 button.colab-df-quickchart');\n",
              "  quickchartButtonEl.style.display =\n",
              "    google.colab.kernel.accessAllowed ? 'block' : 'none';\n",
              "}\n",
              "\n",
              "        displayQuickchartButton(document);\n",
              "      </script>\n",
              "      <style>\n",
              "    .colab-df-container {\n",
              "      display:flex;\n",
              "      flex-wrap:wrap;\n",
              "      gap: 12px;\n",
              "    }\n",
              "\n",
              "    .colab-df-convert {\n",
              "      background-color: #E8F0FE;\n",
              "      border: none;\n",
              "      border-radius: 50%;\n",
              "      cursor: pointer;\n",
              "      display: none;\n",
              "      fill: #1967D2;\n",
              "      height: 32px;\n",
              "      padding: 0 0 0 0;\n",
              "      width: 32px;\n",
              "    }\n",
              "\n",
              "    .colab-df-convert:hover {\n",
              "      background-color: #E2EBFA;\n",
              "      box-shadow: 0px 1px 2px rgba(60, 64, 67, 0.3), 0px 1px 3px 1px rgba(60, 64, 67, 0.15);\n",
              "      fill: #174EA6;\n",
              "    }\n",
              "\n",
              "    [theme=dark] .colab-df-convert {\n",
              "      background-color: #3B4455;\n",
              "      fill: #D2E3FC;\n",
              "    }\n",
              "\n",
              "    [theme=dark] .colab-df-convert:hover {\n",
              "      background-color: #434B5C;\n",
              "      box-shadow: 0px 1px 3px 1px rgba(0, 0, 0, 0.15);\n",
              "      filter: drop-shadow(0px 1px 2px rgba(0, 0, 0, 0.3));\n",
              "      fill: #FFFFFF;\n",
              "    }\n",
              "  </style>\n",
              "\n",
              "      <script>\n",
              "        const buttonEl =\n",
              "          document.querySelector('#df-daeac983-c304-438e-b4c9-1aa7674b0323 button.colab-df-convert');\n",
              "        buttonEl.style.display =\n",
              "          google.colab.kernel.accessAllowed ? 'block' : 'none';\n",
              "\n",
              "        async function convertToInteractive(key) {\n",
              "          const element = document.querySelector('#df-daeac983-c304-438e-b4c9-1aa7674b0323');\n",
              "          const dataTable =\n",
              "            await google.colab.kernel.invokeFunction('convertToInteractive',\n",
              "                                                     [key], {});\n",
              "          if (!dataTable) return;\n",
              "\n",
              "          const docLinkHtml = 'Like what you see? Visit the ' +\n",
              "            '<a target=\"_blank\" href=https://colab.research.google.com/notebooks/data_table.ipynb>data table notebook</a>'\n",
              "            + ' to learn more about interactive tables.';\n",
              "          element.innerHTML = '';\n",
              "          dataTable['output_type'] = 'display_data';\n",
              "          await google.colab.output.renderOutput(dataTable, element);\n",
              "          const docLink = document.createElement('div');\n",
              "          docLink.innerHTML = docLinkHtml;\n",
              "          element.appendChild(docLink);\n",
              "        }\n",
              "      </script>\n",
              "    </div>\n",
              "  </div>\n"
            ]
          },
          "metadata": {},
          "execution_count": 94
        }
      ]
    },
    {
      "cell_type": "code",
      "source": [
        "# Total de pontos de de produtividade feitos pela equipe\n",
        "produtividade_diaria_total = sum([8,6,7,8,8,5,3])\n",
        "print('O Total de pontos de produtividade da equipe na semana foi de: ', produtividade_diaria_total, 'pontos')"
      ],
      "metadata": {
        "colab": {
          "base_uri": "https://localhost:8080/"
        },
        "id": "wQ0E2DxBW7vT",
        "outputId": "61408730-cf3f-467b-ba36-56cebbd953ac"
      },
      "execution_count": 86,
      "outputs": [
        {
          "output_type": "stream",
          "name": "stdout",
          "text": [
            "O Total de pontos de produtividade da equipe na semana foi de:  45 pontos\n"
          ]
        }
      ]
    },
    {
      "cell_type": "code",
      "source": [
        "# Média de pontos de produtividade por dia\n",
        "produtividade_diaria_media = produtividade_diaria_total / 7\n",
        "print('A Média de pontos de produtividade diária na semana, foi de: %.2f' % produtividade_diaria_media, 'pontos')"
      ],
      "metadata": {
        "colab": {
          "base_uri": "https://localhost:8080/"
        },
        "id": "J7BQXhscWFkz",
        "outputId": "1c85ce66-30a3-48db-d110-fd45538d0a4e"
      },
      "execution_count": 87,
      "outputs": [
        {
          "output_type": "stream",
          "name": "stdout",
          "text": [
            "A Média de pontos de produtividade diária na semana, foi de: 6.43 pontos\n"
          ]
        }
      ]
    },
    {
      "cell_type": "code",
      "source": [
        "# Média de pontos de produtividade por hora\n",
        "produtividade_hora_total = (produtividade_diaria_total / horas_trabalhadas_total)\n",
        "print('A Média de pontos de produtividade da equipe por hora foi de: %.2f' % produtividade_hora_total, 'pontos')\n"
      ],
      "metadata": {
        "colab": {
          "base_uri": "https://localhost:8080/"
        },
        "id": "-IAaB_mSXpWK",
        "outputId": "95993103-4dbf-4489-f1c3-5346b361ebac"
      },
      "execution_count": 88,
      "outputs": [
        {
          "output_type": "stream",
          "name": "stdout",
          "text": [
            "A Média de pontos de produtividade da equipe por hora foi de: 1.05 pontos\n"
          ]
        }
      ]
    },
    {
      "cell_type": "code",
      "source": [
        "# Criação do gráfico da média de Produtividade Diária\n",
        "# Setando figura e eixos\n",
        "fig, (ax1) = mpl.subplots(1, figsize=(8, 4))\n",
        "\n",
        "# Criação do gráfico de retas\n",
        "ax1.plot(df_dados_semanais['Dia'],\n",
        "         df_dados_semanais['Média de P. Produtividade por Hora'],\n",
        "         marker='o',\n",
        "         color = 'violet')\n",
        "\n",
        "# Setando a figura do gráfico\n",
        "ax1.set_title('Pontos de Produtividade (por hora) durante a semana')\n",
        "mpl.ylim(0, 1.5)\n",
        "\n",
        "# Mostra o gráfico\n",
        "mpl.grid(True)\n",
        "fig = mpl.gcf()\n",
        "mpl.show()"
      ],
      "metadata": {
        "colab": {
          "base_uri": "https://localhost:8080/",
          "height": 391
        },
        "id": "cbvLAYaJ6Vuj",
        "outputId": "3b3a425e-61d6-4087-8c2b-4fa6996c0cff"
      },
      "execution_count": 100,
      "outputs": [
        {
          "output_type": "display_data",
          "data": {
            "text/plain": [
              "<Figure size 800x400 with 1 Axes>"
            ],
            "image/png": "[encoded data removed]"
          },
          "metadata": {}
        }
      ]
    },
    {
      "cell_type": "markdown",
      "source": [
        "- Seguindo o raciocínio de acompanhamento de entrega das atividades, para medir a produtividade da equipe também é indispensável a métrica: 'Produtividade Diária', onde aqui são calculados a quantidade de **Tarefas Concluídas** + **Bugs Corrigidos** resultando nos **\"Pontos de Produtividade\"**. E dividindo esse resultado por **horas trabalhadas**, temos a média de **\"Pontos de Produtividade por hora\"**, essa medida nos ajuda a identificar as seguintes informações:\n",
        "\n",
        "- ° A quantidade total de pontos de produtividade foi de **45 pontos**\n",
        "- ° O Pico de pontos de produtividade, que aconteceu na **Segunda**, com um total de **1.33** pontos por **hora**.\n",
        "- ° O Menor número de produtividade foi registrado no **Domingo**, com apenas **0.75 pontos** por **hora**. Seguindo a lógica dos gráficos anteriores, os finais de semana por conta das folgas tendem a diminuir drasticamente as estatísticas.\n",
        "- ° A **Média** diária de pontos de produtividade foi de **6.43 pontos**\n",
        "- ° A **Média** por hora de produtividade foi de **1.05 pontos**."
      ],
      "metadata": {
        "id": "KerKG4q98mPE"
      }
    }
  ]
}