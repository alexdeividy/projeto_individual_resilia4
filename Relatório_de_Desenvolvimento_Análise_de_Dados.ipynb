{
  "nbformat": 4,
  "nbformat_minor": 0,
  "metadata": {
    "colab": {
      "provenance": [],
      "toc_visible": true
    },
    "kernelspec": {
      "name": "python3",
      "display_name": "Python 3"
    },
    "language_info": {
      "name": "python"
    }
  },
  "cells": [
    {
      "cell_type": "markdown",
      "source": [
        "# **Relatório de Desenvolvimento - Análise de Dados**"
      ],
      "metadata": {
        "id": "6Yv7-kA9R9qu"
      }
    },
    {
      "cell_type": "markdown",
      "source": [
        "- O Relatório a seguir irá demonstrar os resultados de uma análise feita com base nos dados fornecidos pela empresa 'Softwarlex'. Fornecendo insights sobre o progresso do projeto, e oferecendo informações para ajudar no decorrer do desenvolvimento, como: Possíveis pontos de melhoria, e melhor tomada de decisões."
      ],
      "metadata": {
        "id": "XnZOsH_mR_u9"
      }
    },
    {
      "cell_type": "markdown",
      "source": [
        "- A tabela abaixo contém dados coletados de uma semana de desenvolvimento da equipe, contendo: Dias da semana, horas trabalhadas, bugs corrigidos e tarefas concluídas."
      ],
      "metadata": {
        "id": "pUxxiKaZWRHF"
      }
    },
    {
      "cell_type": "code",
      "source": [
        "# Chamada das libs\n",
        "import pandas as pd\n",
        "import matplotlib.pyplot as mpl"
      ],
      "metadata": {
        "id": "W7NS4NQBWyJZ"
      },
      "execution_count": 11,
      "outputs": []
    },
    {
      "cell_type": "code",
      "source": [
        "# Dados da semana fornecidos pela empresa\n",
        "dados_fornecidos = {\n",
        "    'Dia': ['Segunda', 'Terça', 'Quarta', 'Quinta', 'Sexta', 'Sábado', 'Domingo'],\n",
        "    'Horas Trabalhadas': [6,7,8,6,7,5,4],\n",
        "    'Bugs Corrigidos' : [3,2,1,4,3,2,1],\n",
        "    'Tarefas Concluídas' : [5,4,6,4,5,3,2]\n",
        "}\n",
        "\n",
        "# Criação do DataFrame\n",
        "df_dados_semanais = pd.DataFrame(dados_fornecidos)\n",
        "df_dados_semanais"
      ],
      "metadata": {
        "colab": {
          "base_uri": "https://localhost:8080/",
          "height": 269
        },
        "id": "w3Jdt7z0XiTN",
        "outputId": "2b4a9252-8901-4cd6-a558-7af176c5c74f"
      },
      "execution_count": 12,
      "outputs": [
        {
          "output_type": "execute_result",
          "data": {
            "text/plain": [
              "       Dia  Horas Trabalhadas  Bugs Corrigidos  Tarefas Concluídas\n",
              "0  Segunda                  6                3                   5\n",
              "1    Terça                  7                2                   4\n",
              "2   Quarta                  8                1                   6\n",
              "3   Quinta                  6                4                   4\n",
              "4    Sexta                  7                3                   5\n",
              "5   Sábado                  5                2                   3\n",
              "6  Domingo                  4                1                   2"
            ],
            "text/html": [
              "\n",
              "\n",
              "  <div id=\"df-40ed69c6-fa47-423f-a27b-ccb75b58ea34\">\n",
              "    <div class=\"colab-df-container\">\n",
              "      <div>\n",
              "<style scoped>\n",
              "    .dataframe tbody tr th:only-of-type {\n",
              "        vertical-align: middle;\n",
              "    }\n",
              "\n",
              "    .dataframe tbody tr th {\n",
              "        vertical-align: top;\n",
              "    }\n",
              "\n",
              "    .dataframe thead th {\n",
              "        text-align: right;\n",
              "    }\n",
              "</style>\n",
              "<table border=\"1\" class=\"dataframe\">\n",
              "  <thead>\n",
              "    <tr style=\"text-align: right;\">\n",
              "      <th></th>\n",
              "      <th>Dia</th>\n",
              "      <th>Horas Trabalhadas</th>\n",
              "      <th>Bugs Corrigidos</th>\n",
              "      <th>Tarefas Concluídas</th>\n",
              "    </tr>\n",
              "  </thead>\n",
              "  <tbody>\n",
              "    <tr>\n",
              "      <th>0</th>\n",
              "      <td>Segunda</td>\n",
              "      <td>6</td>\n",
              "      <td>3</td>\n",
              "      <td>5</td>\n",
              "    </tr>\n",
              "    <tr>\n",
              "      <th>1</th>\n",
              "      <td>Terça</td>\n",
              "      <td>7</td>\n",
              "      <td>2</td>\n",
              "      <td>4</td>\n",
              "    </tr>\n",
              "    <tr>\n",
              "      <th>2</th>\n",
              "      <td>Quarta</td>\n",
              "      <td>8</td>\n",
              "      <td>1</td>\n",
              "      <td>6</td>\n",
              "    </tr>\n",
              "    <tr>\n",
              "      <th>3</th>\n",
              "      <td>Quinta</td>\n",
              "      <td>6</td>\n",
              "      <td>4</td>\n",
              "      <td>4</td>\n",
              "    </tr>\n",
              "    <tr>\n",
              "      <th>4</th>\n",
              "      <td>Sexta</td>\n",
              "      <td>7</td>\n",
              "      <td>3</td>\n",
              "      <td>5</td>\n",
              "    </tr>\n",
              "    <tr>\n",
              "      <th>5</th>\n",
              "      <td>Sábado</td>\n",
              "      <td>5</td>\n",
              "      <td>2</td>\n",
              "      <td>3</td>\n",
              "    </tr>\n",
              "    <tr>\n",
              "      <th>6</th>\n",
              "      <td>Domingo</td>\n",
              "      <td>4</td>\n",
              "      <td>1</td>\n",
              "      <td>2</td>\n",
              "    </tr>\n",
              "  </tbody>\n",
              "</table>\n",
              "</div>\n",
              "      <button class=\"colab-df-convert\" onclick=\"convertToInteractive('df-40ed69c6-fa47-423f-a27b-ccb75b58ea34')\"\n",
              "              title=\"Convert this dataframe to an interactive table.\"\n",
              "              style=\"display:none;\">\n",
              "\n",
              "  <svg xmlns=\"http://www.w3.org/2000/svg\" height=\"24px\"viewBox=\"0 0 24 24\"\n",
              "       width=\"24px\">\n",
              "    <path d=\"M0 0h24v24H0V0z\" fill=\"none\"/>\n",
              "    <path d=\"M18.56 5.44l.94 2.06.94-2.06 2.06-.94-2.06-.94-.94-2.06-.94 2.06-2.06.94zm-11 1L8.5 8.5l.94-2.06 2.06-.94-2.06-.94L8.5 2.5l-.94 2.06-2.06.94zm10 10l.94 2.06.94-2.06 2.06-.94-2.06-.94-.94-2.06-.94 2.06-2.06.94z\"/><path d=\"M17.41 7.96l-1.37-1.37c-.4-.4-.92-.59-1.43-.59-.52 0-1.04.2-1.43.59L10.3 9.45l-7.72 7.72c-.78.78-.78 2.05 0 2.83L4 21.41c.39.39.9.59 1.41.59.51 0 1.02-.2 1.41-.59l7.78-7.78 2.81-2.81c.8-.78.8-2.07 0-2.86zM5.41 20L4 18.59l7.72-7.72 1.47 1.35L5.41 20z\"/>\n",
              "  </svg>\n",
              "      </button>\n",
              "\n",
              "\n",
              "\n",
              "    <div id=\"df-6dc0bf59-858f-4978-b91d-b52e4db946f5\">\n",
              "      <button class=\"colab-df-quickchart\" onclick=\"quickchart('df-6dc0bf59-858f-4978-b91d-b52e4db946f5')\"\n",
              "              title=\"Suggest charts.\"\n",
              "              style=\"display:none;\">\n",
              "\n",
              "<svg xmlns=\"http://www.w3.org/2000/svg\" height=\"24px\"viewBox=\"0 0 24 24\"\n",
              "     width=\"24px\">\n",
              "    <g>\n",
              "        <path d=\"M19 3H5c-1.1 0-2 .9-2 2v14c0 1.1.9 2 2 2h14c1.1 0 2-.9 2-2V5c0-1.1-.9-2-2-2zM9 17H7v-7h2v7zm4 0h-2V7h2v10zm4 0h-2v-4h2v4z\"/>\n",
              "    </g>\n",
              "</svg>\n",
              "      </button>\n",
              "    </div>\n",
              "\n",
              "<style>\n",
              "  .colab-df-quickchart {\n",
              "    background-color: #E8F0FE;\n",
              "    border: none;\n",
              "    border-radius: 50%;\n",
              "    cursor: pointer;\n",
              "    display: none;\n",
              "    fill: #1967D2;\n",
              "    height: 32px;\n",
              "    padding: 0 0 0 0;\n",
              "    width: 32px;\n",
              "  }\n",
              "\n",
              "  .colab-df-quickchart:hover {\n",
              "    background-color: #E2EBFA;\n",
              "    box-shadow: 0px 1px 2px rgba(60, 64, 67, 0.3), 0px 1px 3px 1px rgba(60, 64, 67, 0.15);\n",
              "    fill: #174EA6;\n",
              "  }\n",
              "\n",
              "  [theme=dark] .colab-df-quickchart {\n",
              "    background-color: #3B4455;\n",
              "    fill: #D2E3FC;\n",
              "  }\n",
              "\n",
              "  [theme=dark] .colab-df-quickchart:hover {\n",
              "    background-color: #434B5C;\n",
              "    box-shadow: 0px 1px 3px 1px rgba(0, 0, 0, 0.15);\n",
              "    filter: drop-shadow(0px 1px 2px rgba(0, 0, 0, 0.3));\n",
              "    fill: #FFFFFF;\n",
              "  }\n",
              "</style>\n",
              "\n",
              "    <script>\n",
              "      async function quickchart(key) {\n",
              "        const containerElement = document.querySelector('#' + key);\n",
              "        const charts = await google.colab.kernel.invokeFunction(\n",
              "            'suggestCharts', [key], {});\n",
              "      }\n",
              "    </script>\n",
              "\n",
              "      <script>\n",
              "\n",
              "function displayQuickchartButton(domScope) {\n",
              "  let quickchartButtonEl =\n",
              "    domScope.querySelector('#df-6dc0bf59-858f-4978-b91d-b52e4db946f5 button.colab-df-quickchart');\n",
              "  quickchartButtonEl.style.display =\n",
              "    google.colab.kernel.accessAllowed ? 'block' : 'none';\n",
              "}\n",
              "\n",
              "        displayQuickchartButton(document);\n",
              "      </script>\n",
              "      <style>\n",
              "    .colab-df-container {\n",
              "      display:flex;\n",
              "      flex-wrap:wrap;\n",
              "      gap: 12px;\n",
              "    }\n",
              "\n",
              "    .colab-df-convert {\n",
              "      background-color: #E8F0FE;\n",
              "      border: none;\n",
              "      border-radius: 50%;\n",
              "      cursor: pointer;\n",
              "      display: none;\n",
              "      fill: #1967D2;\n",
              "      height: 32px;\n",
              "      padding: 0 0 0 0;\n",
              "      width: 32px;\n",
              "    }\n",
              "\n",
              "    .colab-df-convert:hover {\n",
              "      background-color: #E2EBFA;\n",
              "      box-shadow: 0px 1px 2px rgba(60, 64, 67, 0.3), 0px 1px 3px 1px rgba(60, 64, 67, 0.15);\n",
              "      fill: #174EA6;\n",
              "    }\n",
              "\n",
              "    [theme=dark] .colab-df-convert {\n",
              "      background-color: #3B4455;\n",
              "      fill: #D2E3FC;\n",
              "    }\n",
              "\n",
              "    [theme=dark] .colab-df-convert:hover {\n",
              "      background-color: #434B5C;\n",
              "      box-shadow: 0px 1px 3px 1px rgba(0, 0, 0, 0.15);\n",
              "      filter: drop-shadow(0px 1px 2px rgba(0, 0, 0, 0.3));\n",
              "      fill: #FFFFFF;\n",
              "    }\n",
              "  </style>\n",
              "\n",
              "      <script>\n",
              "        const buttonEl =\n",
              "          document.querySelector('#df-40ed69c6-fa47-423f-a27b-ccb75b58ea34 button.colab-df-convert');\n",
              "        buttonEl.style.display =\n",
              "          google.colab.kernel.accessAllowed ? 'block' : 'none';\n",
              "\n",
              "        async function convertToInteractive(key) {\n",
              "          const element = document.querySelector('#df-40ed69c6-fa47-423f-a27b-ccb75b58ea34');\n",
              "          const dataTable =\n",
              "            await google.colab.kernel.invokeFunction('convertToInteractive',\n",
              "                                                     [key], {});\n",
              "          if (!dataTable) return;\n",
              "\n",
              "          const docLinkHtml = 'Like what you see? Visit the ' +\n",
              "            '<a target=\"_blank\" href=https://colab.research.google.com/notebooks/data_table.ipynb>data table notebook</a>'\n",
              "            + ' to learn more about interactive tables.';\n",
              "          element.innerHTML = '';\n",
              "          dataTable['output_type'] = 'display_data';\n",
              "          await google.colab.output.renderOutput(dataTable, element);\n",
              "          const docLink = document.createElement('div');\n",
              "          docLink.innerHTML = docLinkHtml;\n",
              "          element.appendChild(docLink);\n",
              "        }\n",
              "      </script>\n",
              "    </div>\n",
              "  </div>\n"
            ]
          },
          "metadata": {},
          "execution_count": 12
        }
      ]
    },
    {
      "cell_type": "markdown",
      "source": [
        "- Será mostrado um relátorio de progresso diário para mostrar a produtividade de trabalhho dos funcionários. Serão feitos cálculos seguindo métricas dos itens abaixo:"
      ],
      "metadata": {
        "id": "J2ECUTmlanpu"
      }
    },
    {
      "cell_type": "markdown",
      "source": [
        "- ° Total de Horas Trabalhadas\n",
        "- ° Média Diária de Horas Trabalhadas\n",
        "- ° Total de Bugs Corrigidos\n",
        "- ° Média Diária de Bugs Corrigidos\n",
        "- ° Total de Tarefas Concluídas\n",
        "- ° Média Diária de Tarefas Concluídas\n",
        "- ° Produtividade Diária (Tarefas Concluídas por Hora)\n",
        "\n",
        "\n",
        "\n"
      ],
      "metadata": {
        "id": "Geoc2OVmbn_F"
      }
    },
    {
      "cell_type": "markdown",
      "source": [
        "## **Horas trabalhadas**"
      ],
      "metadata": {
        "id": "eMlsZBAHckkA"
      }
    },
    {
      "cell_type": "code",
      "source": [
        "# Total de horas trabalhadas pela equipe\n",
        "horas_trabalhadas_total = horas_trabalhadas_total = df_dados_semanais['Horas Trabalhadas'].sum()\n",
        "print('O Total de horas trabalhadas pela equipe na semana foi de:', horas_trabalhadas_total, 'horas')"
      ],
      "metadata": {
        "colab": {
          "base_uri": "https://localhost:8080/"
        },
        "id": "IqnxTSTmdByC",
        "outputId": "c4676963-b701-4a36-fee9-24a9bc67eb3c"
      },
      "execution_count": 54,
      "outputs": [
        {
          "output_type": "stream",
          "name": "stdout",
          "text": [
            "O Total de horas trabalhadas pela equipe na semana foi de: 43 horas\n"
          ]
        }
      ]
    },
    {
      "cell_type": "code",
      "source": [
        "# Média das horas trabalhadas por dia pela equipe\n",
        "horas_trabalhadas_media = df_dados_semanais['Horas Trabalhadas'].mean()\n",
        "print('A Média de horas trabalhadas pela equipe por dia foi de: %.2f' % horas_trabalhadas_media, 'horas')"
      ],
      "metadata": {
        "colab": {
          "base_uri": "https://localhost:8080/"
        },
        "id": "ZzLvIIZkervA",
        "outputId": "155823e0-df88-4058-eb58-5f03bf3f5e63"
      },
      "execution_count": 56,
      "outputs": [
        {
          "output_type": "stream",
          "name": "stdout",
          "text": [
            "A Média de horas trabalhadas pela equipe por dia foi de: 6.14 horas\n"
          ]
        }
      ]
    },
    {
      "cell_type": "code",
      "source": [
        "# Criação do gráfico de horas trabalhadas durante a semana, por dia da semana\n",
        "# Setando figura e eixos\n",
        "fig, (ax1) = mpl.subplots(1, figsize=(8,5))\n",
        "ax1.bar(\n",
        "    dados_fornecidos['Dia'],\n",
        "    dados_fornecidos['Horas Trabalhadas'],\n",
        "    color='goldenrod')\n",
        "\n",
        "# Setando a figura do gráfico\n",
        "ax1.set_title('Horas Trabalhadas durante a semana')\n",
        "\n",
        "# Mostrar o gráfico\n",
        "fig = mpl.gcf()\n",
        "mpl.show()\n"
      ],
      "metadata": {
        "colab": {
          "base_uri": "https://localhost:8080/",
          "height": 468
        },
        "id": "tIy75_SBgfkK",
        "outputId": "dfa735c4-4f27-4db3-fa59-5e16ee368bad"
      },
      "execution_count": 60,
      "outputs": [
        {
          "output_type": "display_data",
          "data": {
            "text/plain": [
              "<Figure size 800x500 with 1 Axes>"
            ],
            "image/png": "[encoded data removed]"
          },
          "metadata": {}
        }
      ]
    },
    {
      "cell_type": "markdown",
      "source": [
        "- Registrar o tempo de trabalho é extremamente importante para qualquer projeto. Ter noção de quanto tempo está sendo tomado é fundamental para saber se a eficiência da equipe está alta. Analisando os dados obtidos, temos as seguintes informações:\n",
        "\n",
        "- ° O **total de horas** trabalhadas pela equipe foi de **43 horas**.\n",
        "- ° Pico de horas atingido na **Quarta**, com um total de **8 horas**.\n",
        "- ° Menor número de horas registrado no **Domingo**, com **4 horas** no total.\n",
        "- ° **Média** diária de horas trabalhadas ficou em **6.14**"
      ],
      "metadata": {
        "id": "9Vleh_lhjC9V"
      }
    },
    {
      "cell_type": "markdown",
      "source": [
        "## **Bugs Corrigidos**"
      ],
      "metadata": {
        "id": "EHqlKPkZmtCQ"
      }
    },
    {
      "cell_type": "code",
      "source": [
        "# Total de bugs corrigidos pela equipe\n",
        "bugs_corrigidos_total = df_dados_semanais['Bugs Corrigidos'].sum()\n",
        "print('O Total de bugs corrigidos pela equipe na semana foi de:', bugs_corrigidos_total, 'bugs')"
      ],
      "metadata": {
        "colab": {
          "base_uri": "https://localhost:8080/"
        },
        "id": "I-UFeq8Aph3X",
        "outputId": "895baa29-7db8-4c1a-abaa-2ed51a0c1311"
      },
      "execution_count": 61,
      "outputs": [
        {
          "output_type": "stream",
          "name": "stdout",
          "text": [
            "O Total de bugs corrigidos pela equipe na semana foi de: 16 bugs\n"
          ]
        }
      ]
    },
    {
      "cell_type": "code",
      "source": [
        "# Média de bugs corrigidos por dia pela equipe\n",
        "bugs_corrigidos_media = df_dados_semanais['Bugs Corrigidos'].mean()\n",
        "print('A Média de bugs corrigidos por dia pela equipe foi de: %.2f' % bugs_corrigidos_media, 'bugs')"
      ],
      "metadata": {
        "colab": {
          "base_uri": "https://localhost:8080/"
        },
        "id": "YxaN9TV5qcNy",
        "outputId": "d30f9007-f011-4ca0-f4e4-1b21bef19cb7"
      },
      "execution_count": 62,
      "outputs": [
        {
          "output_type": "stream",
          "name": "stdout",
          "text": [
            "A Média de bugs corrigidos por dia pela equipe foi de: 2.29 bugs\n"
          ]
        }
      ]
    },
    {
      "cell_type": "code",
      "source": [
        "# Criação do gráfico de bugs corrigidos durante a semana, por dia da semana\n",
        "# Setando figura e eixos\n",
        "fig, (ax1) = mpl.subplots(1, figsize=(8,5))\n",
        "ax1.bar(\n",
        "    dados_fornecidos['Dia'],\n",
        "    dados_fornecidos['Bugs Corrigidos'],\n",
        "    color='teal')\n",
        "\n",
        "# Setando a figura do gráfico\n",
        "ax1.set_title('Bugs Corrigidos durante a semana')\n",
        "\n",
        "# Mostrar o gráfico\n",
        "fig = mpl.gcf()\n",
        "mpl.show()"
      ],
      "metadata": {
        "colab": {
          "base_uri": "https://localhost:8080/",
          "height": 468
        },
        "id": "kOomcMD9q7Bm",
        "outputId": "a97201de-efec-49fa-aa5e-721bf69b7931"
      },
      "execution_count": 63,
      "outputs": [
        {
          "output_type": "display_data",
          "data": {
            "text/plain": [
              "<Figure size 800x500 with 1 Axes>"
            ],
            "image/png": "[encoded data removed]"
          },
          "metadata": {}
        }
      ]
    },
    {
      "cell_type": "markdown",
      "source": [
        "- Um dos maiores problemas no desenvolvimento de algo novo, com certeza são os diversos bugs encontrados pelo caminho, é muito importante a rápida detecção desses bugs, para a imediata correção, e assim seguir com o planejado do projeto, com os dados fornecidos, conseguimos identificar as seguintes informações:\n",
        "\n",
        "- ° O **total de bugs corrigidos** pela equipe durante a semana foi de: **16 bugs**.\n",
        "- ° O Pico de correções aconteceu na **Quinta**, com um total de **4 bugs**. Número total foi decaindo ao longo da semana, o que mostra um bom desenvolvimento após isso.\n",
        "- ° Menor número de bugs corrigidos registrado no **Domingo**, empatado com a **Quarta**, com **1 bug corrigido** apenas.\n",
        "- ° A **Média** diária de bugs corrigidos ficou em **2.29**"
      ],
      "metadata": {
        "id": "oY-xL1jLr2Zq"
      }
    },
    {
      "cell_type": "markdown",
      "source": [
        "## **Tarefas Concluídas**"
      ],
      "metadata": {
        "id": "U2b7-1Aktsdh"
      }
    },
    {
      "cell_type": "code",
      "source": [
        "# Total de tarefas concluídas pela equipe\n",
        "tarefas_concluidas_total = df_dados_semanais['Tarefas Concluídas'].sum()\n",
        "print('O Total de tarefas concluídas pela equipe na semana foi de: ', tarefas_concluidas_total, 'tarefas')"
      ],
      "metadata": {
        "colab": {
          "base_uri": "https://localhost:8080/"
        },
        "id": "3eTpI_JyvFz7",
        "outputId": "0365b18c-e2ea-4b92-e5fb-448d9d0b121e"
      },
      "execution_count": 64,
      "outputs": [
        {
          "output_type": "stream",
          "name": "stdout",
          "text": [
            "O Total de tarefas concluídas pela equipe na semana foi de:  29 tarefas\n"
          ]
        }
      ]
    },
    {
      "cell_type": "code",
      "source": [
        "# Média de tarefas concluídas por dia pela equipe\n",
        "tarefas_concluidas_media = df_dados_semanais['Tarefas Concluídas'].mean()\n",
        "print('A Média de tarefas concluídas por dia pela equipe foi de: %.2f' % tarefas_concluidas_media, 'tarefas')"
      ],
      "metadata": {
        "colab": {
          "base_uri": "https://localhost:8080/"
        },
        "id": "0OJhGV8QvkGm",
        "outputId": "8852d6ef-92e7-4f69-b704-a924d6a86a17"
      },
      "execution_count": 65,
      "outputs": [
        {
          "output_type": "stream",
          "name": "stdout",
          "text": [
            "A Média de tarefas concluídas por dia pela equipe foi de: 4.14 tarefas\n"
          ]
        }
      ]
    },
    {
      "cell_type": "code",
      "source": [
        "# Criação do gráfico de tarefas concluidas durante a semana, por dia da semana\n",
        "# Setando figura e eixos\n",
        "fig, (ax1) = mpl.subplots(1, figsize=(8,5))\n",
        "ax1.bar(\n",
        "    dados_fornecidos['Dia'],\n",
        "    dados_fornecidos['Tarefas Concluídas'],\n",
        "    color='lightblue')\n",
        "\n",
        "# Setando a figura do gráfico\n",
        "ax1.set_title('Tarefas Concluídas durante a semana')\n",
        "\n",
        "# Mostrar o gráfico\n",
        "fig = mpl.gcf()\n",
        "mpl.show()"
      ],
      "metadata": {
        "colab": {
          "base_uri": "https://localhost:8080/",
          "height": 468
        },
        "id": "qf1UqJ71wUdH",
        "outputId": "f7502e42-c5fd-4978-f901-1857b01f0118"
      },
      "execution_count": 100,
      "outputs": [
        {
          "output_type": "display_data",
          "data": {
            "text/plain": [
              "<Figure size 800x500 with 1 Axes>"
            ],
            "image/png": "[encoded data removed]"
          },
          "metadata": {}
        }
      ]
    },
    {
      "cell_type": "markdown",
      "source": [
        "- Acompanhar o andamento do das atividades sem dúvidas é primordial para quem quer estar no caminho certo do desenvolvimento de algum projeto, tanto para medir produtividade como para saber se está indo tudo conforme o prazo dado ao cliente. De acordo com os dados obtidos temos as seguintes informações:\n",
        "\n",
        "- ° O **total de tarefas concluídas** pela equipe durante a semana foi de: **29 tarefas**.\n",
        "- ° O Pico de correções aconteceu na **Quarta**, com um total de **6 entregas**. Número total foi decaindo ao longo da semana.\n",
        "- ° O Menor número de tarefas concluídas foi registrado no **Domingo**, com **2 tarefas concluídas** apenas. E mostrando uma queda significante durante o final de semana.\n",
        "- ° A **Média** diária de tarefas entregues ficou em **4.14**"
      ],
      "metadata": {
        "id": "3JnNoCKXx6C_"
      }
    },
    {
      "cell_type": "markdown",
      "source": [
        "## **Produtividade Diária**"
      ],
      "metadata": {
        "id": "ElYuXeH33v7B"
      }
    },
    {
      "cell_type": "code",
      "source": [
        "# Adicionando uma nova coluna chamada 'Produtividade Diária' que é a tabela de 'Tarefas Concluídas' dividida pelas horas trabalhadas\n",
        "df_dados_semanais['Produtividade Diária'] = (df_dados_semanais['Tarefas Concluídas'] /df_dados_semanais['Horas Trabalhadas']).round(2)\n",
        "\n",
        "# Exibe o DataFrame atualizado com as novas tabelas\n",
        "df_dados_semanais"
      ],
      "metadata": {
        "colab": {
          "base_uri": "https://localhost:8080/",
          "height": 269
        },
        "id": "t0fVBRG0h78c",
        "outputId": "101e1ea5-31f2-4dd0-a9f2-505e761e8e23"
      },
      "execution_count": 30,
      "outputs": [
        {
          "output_type": "execute_result",
          "data": {
            "text/plain": [
              "       Dia  Horas Trabalhadas  Bugs Corrigidos  Tarefas Concluídas  \\\n",
              "0  Segunda                  6                3                   5   \n",
              "1    Terça                  7                2                   4   \n",
              "2   Quarta                  8                1                   6   \n",
              "3   Quinta                  6                4                   4   \n",
              "4    Sexta                  7                3                   5   \n",
              "5   Sábado                  5                2                   3   \n",
              "6  Domingo                  4                1                   2   \n",
              "\n",
              "   Produtividade Diária  \n",
              "0                  0.83  \n",
              "1                  0.57  \n",
              "2                  0.75  \n",
              "3                  0.67  \n",
              "4                  0.71  \n",
              "5                  0.60  \n",
              "6                  0.50  "
            ],
            "text/html": [
              "\n",
              "\n",
              "  <div id=\"df-0989097c-10f1-4e6c-a277-96529a1b20eb\">\n",
              "    <div class=\"colab-df-container\">\n",
              "      <div>\n",
              "<style scoped>\n",
              "    .dataframe tbody tr th:only-of-type {\n",
              "        vertical-align: middle;\n",
              "    }\n",
              "\n",
              "    .dataframe tbody tr th {\n",
              "        vertical-align: top;\n",
              "    }\n",
              "\n",
              "    .dataframe thead th {\n",
              "        text-align: right;\n",
              "    }\n",
              "</style>\n",
              "<table border=\"1\" class=\"dataframe\">\n",
              "  <thead>\n",
              "    <tr style=\"text-align: right;\">\n",
              "      <th></th>\n",
              "      <th>Dia</th>\n",
              "      <th>Horas Trabalhadas</th>\n",
              "      <th>Bugs Corrigidos</th>\n",
              "      <th>Tarefas Concluídas</th>\n",
              "      <th>Produtividade Diária</th>\n",
              "    </tr>\n",
              "  </thead>\n",
              "  <tbody>\n",
              "    <tr>\n",
              "      <th>0</th>\n",
              "      <td>Segunda</td>\n",
              "      <td>6</td>\n",
              "      <td>3</td>\n",
              "      <td>5</td>\n",
              "      <td>0.83</td>\n",
              "    </tr>\n",
              "    <tr>\n",
              "      <th>1</th>\n",
              "      <td>Terça</td>\n",
              "      <td>7</td>\n",
              "      <td>2</td>\n",
              "      <td>4</td>\n",
              "      <td>0.57</td>\n",
              "    </tr>\n",
              "    <tr>\n",
              "      <th>2</th>\n",
              "      <td>Quarta</td>\n",
              "      <td>8</td>\n",
              "      <td>1</td>\n",
              "      <td>6</td>\n",
              "      <td>0.75</td>\n",
              "    </tr>\n",
              "    <tr>\n",
              "      <th>3</th>\n",
              "      <td>Quinta</td>\n",
              "      <td>6</td>\n",
              "      <td>4</td>\n",
              "      <td>4</td>\n",
              "      <td>0.67</td>\n",
              "    </tr>\n",
              "    <tr>\n",
              "      <th>4</th>\n",
              "      <td>Sexta</td>\n",
              "      <td>7</td>\n",
              "      <td>3</td>\n",
              "      <td>5</td>\n",
              "      <td>0.71</td>\n",
              "    </tr>\n",
              "    <tr>\n",
              "      <th>5</th>\n",
              "      <td>Sábado</td>\n",
              "      <td>5</td>\n",
              "      <td>2</td>\n",
              "      <td>3</td>\n",
              "      <td>0.60</td>\n",
              "    </tr>\n",
              "    <tr>\n",
              "      <th>6</th>\n",
              "      <td>Domingo</td>\n",
              "      <td>4</td>\n",
              "      <td>1</td>\n",
              "      <td>2</td>\n",
              "      <td>0.50</td>\n",
              "    </tr>\n",
              "  </tbody>\n",
              "</table>\n",
              "</div>\n",
              "      <button class=\"colab-df-convert\" onclick=\"convertToInteractive('df-0989097c-10f1-4e6c-a277-96529a1b20eb')\"\n",
              "              title=\"Convert this dataframe to an interactive table.\"\n",
              "              style=\"display:none;\">\n",
              "\n",
              "  <svg xmlns=\"http://www.w3.org/2000/svg\" height=\"24px\"viewBox=\"0 0 24 24\"\n",
              "       width=\"24px\">\n",
              "    <path d=\"M0 0h24v24H0V0z\" fill=\"none\"/>\n",
              "    <path d=\"M18.56 5.44l.94 2.06.94-2.06 2.06-.94-2.06-.94-.94-2.06-.94 2.06-2.06.94zm-11 1L8.5 8.5l.94-2.06 2.06-.94-2.06-.94L8.5 2.5l-.94 2.06-2.06.94zm10 10l.94 2.06.94-2.06 2.06-.94-2.06-.94-.94-2.06-.94 2.06-2.06.94z\"/><path d=\"M17.41 7.96l-1.37-1.37c-.4-.4-.92-.59-1.43-.59-.52 0-1.04.2-1.43.59L10.3 9.45l-7.72 7.72c-.78.78-.78 2.05 0 2.83L4 21.41c.39.39.9.59 1.41.59.51 0 1.02-.2 1.41-.59l7.78-7.78 2.81-2.81c.8-.78.8-2.07 0-2.86zM5.41 20L4 18.59l7.72-7.72 1.47 1.35L5.41 20z\"/>\n",
              "  </svg>\n",
              "      </button>\n",
              "\n",
              "\n",
              "\n",
              "    <div id=\"df-44becb44-3832-4d29-93c8-681f986f5c41\">\n",
              "      <button class=\"colab-df-quickchart\" onclick=\"quickchart('df-44becb44-3832-4d29-93c8-681f986f5c41')\"\n",
              "              title=\"Suggest charts.\"\n",
              "              style=\"display:none;\">\n",
              "\n",
              "<svg xmlns=\"http://www.w3.org/2000/svg\" height=\"24px\"viewBox=\"0 0 24 24\"\n",
              "     width=\"24px\">\n",
              "    <g>\n",
              "        <path d=\"M19 3H5c-1.1 0-2 .9-2 2v14c0 1.1.9 2 2 2h14c1.1 0 2-.9 2-2V5c0-1.1-.9-2-2-2zM9 17H7v-7h2v7zm4 0h-2V7h2v10zm4 0h-2v-4h2v4z\"/>\n",
              "    </g>\n",
              "</svg>\n",
              "      </button>\n",
              "    </div>\n",
              "\n",
              "<style>\n",
              "  .colab-df-quickchart {\n",
              "    background-color: #E8F0FE;\n",
              "    border: none;\n",
              "    border-radius: 50%;\n",
              "    cursor: pointer;\n",
              "    display: none;\n",
              "    fill: #1967D2;\n",
              "    height: 32px;\n",
              "    padding: 0 0 0 0;\n",
              "    width: 32px;\n",
              "  }\n",
              "\n",
              "  .colab-df-quickchart:hover {\n",
              "    background-color: #E2EBFA;\n",
              "    box-shadow: 0px 1px 2px rgba(60, 64, 67, 0.3), 0px 1px 3px 1px rgba(60, 64, 67, 0.15);\n",
              "    fill: #174EA6;\n",
              "  }\n",
              "\n",
              "  [theme=dark] .colab-df-quickchart {\n",
              "    background-color: #3B4455;\n",
              "    fill: #D2E3FC;\n",
              "  }\n",
              "\n",
              "  [theme=dark] .colab-df-quickchart:hover {\n",
              "    background-color: #434B5C;\n",
              "    box-shadow: 0px 1px 3px 1px rgba(0, 0, 0, 0.15);\n",
              "    filter: drop-shadow(0px 1px 2px rgba(0, 0, 0, 0.3));\n",
              "    fill: #FFFFFF;\n",
              "  }\n",
              "</style>\n",
              "\n",
              "    <script>\n",
              "      async function quickchart(key) {\n",
              "        const containerElement = document.querySelector('#' + key);\n",
              "        const charts = await google.colab.kernel.invokeFunction(\n",
              "            'suggestCharts', [key], {});\n",
              "      }\n",
              "    </script>\n",
              "\n",
              "      <script>\n",
              "\n",
              "function displayQuickchartButton(domScope) {\n",
              "  let quickchartButtonEl =\n",
              "    domScope.querySelector('#df-44becb44-3832-4d29-93c8-681f986f5c41 button.colab-df-quickchart');\n",
              "  quickchartButtonEl.style.display =\n",
              "    google.colab.kernel.accessAllowed ? 'block' : 'none';\n",
              "}\n",
              "\n",
              "        displayQuickchartButton(document);\n",
              "      </script>\n",
              "      <style>\n",
              "    .colab-df-container {\n",
              "      display:flex;\n",
              "      flex-wrap:wrap;\n",
              "      gap: 12px;\n",
              "    }\n",
              "\n",
              "    .colab-df-convert {\n",
              "      background-color: #E8F0FE;\n",
              "      border: none;\n",
              "      border-radius: 50%;\n",
              "      cursor: pointer;\n",
              "      display: none;\n",
              "      fill: #1967D2;\n",
              "      height: 32px;\n",
              "      padding: 0 0 0 0;\n",
              "      width: 32px;\n",
              "    }\n",
              "\n",
              "    .colab-df-convert:hover {\n",
              "      background-color: #E2EBFA;\n",
              "      box-shadow: 0px 1px 2px rgba(60, 64, 67, 0.3), 0px 1px 3px 1px rgba(60, 64, 67, 0.15);\n",
              "      fill: #174EA6;\n",
              "    }\n",
              "\n",
              "    [theme=dark] .colab-df-convert {\n",
              "      background-color: #3B4455;\n",
              "      fill: #D2E3FC;\n",
              "    }\n",
              "\n",
              "    [theme=dark] .colab-df-convert:hover {\n",
              "      background-color: #434B5C;\n",
              "      box-shadow: 0px 1px 3px 1px rgba(0, 0, 0, 0.15);\n",
              "      filter: drop-shadow(0px 1px 2px rgba(0, 0, 0, 0.3));\n",
              "      fill: #FFFFFF;\n",
              "    }\n",
              "  </style>\n",
              "\n",
              "      <script>\n",
              "        const buttonEl =\n",
              "          document.querySelector('#df-0989097c-10f1-4e6c-a277-96529a1b20eb button.colab-df-convert');\n",
              "        buttonEl.style.display =\n",
              "          google.colab.kernel.accessAllowed ? 'block' : 'none';\n",
              "\n",
              "        async function convertToInteractive(key) {\n",
              "          const element = document.querySelector('#df-0989097c-10f1-4e6c-a277-96529a1b20eb');\n",
              "          const dataTable =\n",
              "            await google.colab.kernel.invokeFunction('convertToInteractive',\n",
              "                                                     [key], {});\n",
              "          if (!dataTable) return;\n",
              "\n",
              "          const docLinkHtml = 'Like what you see? Visit the ' +\n",
              "            '<a target=\"_blank\" href=https://colab.research.google.com/notebooks/data_table.ipynb>data table notebook</a>'\n",
              "            + ' to learn more about interactive tables.';\n",
              "          element.innerHTML = '';\n",
              "          dataTable['output_type'] = 'display_data';\n",
              "          await google.colab.output.renderOutput(dataTable, element);\n",
              "          const docLink = document.createElement('div');\n",
              "          docLink.innerHTML = docLinkHtml;\n",
              "          element.appendChild(docLink);\n",
              "        }\n",
              "      </script>\n",
              "    </div>\n",
              "  </div>\n"
            ]
          },
          "metadata": {},
          "execution_count": 30
        }
      ]
    },
    {
      "cell_type": "code",
      "source": [
        "produtividade_diaria_media = df_dados_semanais['Produtividade Diária'].mean()\n",
        "print('A Média de Produtividade Diária na semana, foi de: %.2f' % produtividade_diaria_media, 'tarefas por hora')"
      ],
      "metadata": {
        "colab": {
          "base_uri": "https://localhost:8080/"
        },
        "id": "jv0jCyheoHZm",
        "outputId": "435c7f3d-a2c8-40f7-8984-0f18420c4eb4"
      },
      "execution_count": 51,
      "outputs": [
        {
          "output_type": "stream",
          "name": "stdout",
          "text": [
            "A Média de Produtividade Diária na semana, foi de: 0.66 tarefas por hora\n"
          ]
        }
      ]
    },
    {
      "cell_type": "code",
      "source": [
        "# Criação do gráfico da média de Produtividade Diária\n",
        "# Setando figura e eixos\n",
        "fig, (ax1) = mpl.subplots(1, figsize=(8, 4))\n",
        "\n",
        "# Criação do gráfico de retas\n",
        "ax1.plot(df_dados_semanais['Dia'],\n",
        "         df_dados_semanais['Produtividade Diária'],\n",
        "         marker='o',\n",
        "         color = 'olive')\n",
        "\n",
        "# Setando a figura do gráfico\n",
        "ax1.set_title('Produtividade Diária durante a semana')\n",
        "mpl.ylim(0, 1)\n",
        "\n",
        "# Mostra o gráfico\n",
        "mpl.grid(True)\n",
        "fig = mpl.gcf()\n",
        "mpl.show()"
      ],
      "metadata": {
        "colab": {
          "base_uri": "https://localhost:8080/",
          "height": 391
        },
        "id": "5YEez3Msf4-t",
        "outputId": "0a6c30db-bdde-42a3-f696-d8a2681c92af"
      },
      "execution_count": 88,
      "outputs": [
        {
          "output_type": "display_data",
          "data": {
            "text/plain": [
              "<Figure size 800x400 with 1 Axes>"
            ],
            "image/png": "[encoded data removed]"
          },
          "metadata": {}
        }
      ]
    },
    {
      "cell_type": "markdown",
      "source": [
        "- Seguindo a linha de acompanhamento de entrega das atividades, para medir a produtividade da equipe também é indispensável a métrica: 'Produtividade Diária', onde aqui são calculados a quantidade de **Tarefas Concluídas** dividindo por **horas trabalhadas**, temos a média de **\"Produtividade Diária\"**, essa medida nos ajuda a identificar as seguintes informações:\n",
        "\n",
        "- ° O Pico de Produtividade Diária, aconteceu na **Segunda**, com um total de **0.83** tarefas concluídas por **hora**.\n",
        "- ° O Menor número de produtividade foi registrado no **Domingo**, com apenas **0.50** por **hora**.\n",
        "- ° A **Média** de Produtividade Diária foi de **0.66 tarefas por hora**"
      ],
      "metadata": {
        "id": "GqCr0fOMnOmU"
      }
    },
    {
      "cell_type": "markdown",
      "source": [
        "## **Mais informações**"
      ],
      "metadata": {
        "id": "aO_Qvl_4fbM0"
      }
    },
    {
      "cell_type": "markdown",
      "source": [
        "- A partir desta seção, estarei demonstrando informações extras e mais detalhadas sobre os dados fornecidos pela empresa, você verá itens como: \"Pontos\" de produtividade, uma métrica criada que adiciona Bugs resolvidos à Tarefas concluídas, por interpretação de que demanda tempo e pode contar como um avanço da equipe. E também irei mostrar gráficos comparativos dentre os que já foram apresentados em supra."
      ],
      "metadata": {
        "id": "XIt35GkSq5yI"
      }
    },
    {
      "cell_type": "markdown",
      "source": [
        "### **''Pontos'' de Produtividade**"
      ],
      "metadata": {
        "id": "sWhK5bQIqqVO"
      }
    },
    {
      "cell_type": "code",
      "source": [
        "# Adicionando uma nova coluna chamada 'P. Produtividade Diária, que são as tabelas de Tarefas concluídas e Bugs Corrigidos somadas'\n",
        "df_dados_semanais['P. Produtividade Diária'] = (df_dados_semanais['Tarefas Concluídas'] +df_dados_semanais['Bugs Corrigidos'])\n",
        "\n",
        "# Adicionando uma nova coluna chamada 'Média de Produtividade por Hora' que é a tabela de P. Produtividade Diária dividida pelas horas\n",
        "df_dados_semanais['Média de P. Produtividade por Hora'] = (df_dados_semanais['P. Produtividade Diária'] /df_dados_semanais['Horas Trabalhadas']).round(2)\n",
        "\n",
        "# Exibe o DataFrame atualizado com as novas tabelas\n",
        "df_dados_semanais"
      ],
      "metadata": {
        "colab": {
          "base_uri": "https://localhost:8080/",
          "height": 269
        },
        "id": "jH23HAV74ZNm",
        "outputId": "fa39b67b-2b12-4ae6-d6dc-d75d1d9ec778"
      },
      "execution_count": 31,
      "outputs": [
        {
          "output_type": "execute_result",
          "data": {
            "text/plain": [
              "       Dia  Horas Trabalhadas  Bugs Corrigidos  Tarefas Concluídas  \\\n",
              "0  Segunda                  6                3                   5   \n",
              "1    Terça                  7                2                   4   \n",
              "2   Quarta                  8                1                   6   \n",
              "3   Quinta                  6                4                   4   \n",
              "4    Sexta                  7                3                   5   \n",
              "5   Sábado                  5                2                   3   \n",
              "6  Domingo                  4                1                   2   \n",
              "\n",
              "   Produtividade Diária  P. Produtividade Diária  \\\n",
              "0                  0.83                        8   \n",
              "1                  0.57                        6   \n",
              "2                  0.75                        7   \n",
              "3                  0.67                        8   \n",
              "4                  0.71                        8   \n",
              "5                  0.60                        5   \n",
              "6                  0.50                        3   \n",
              "\n",
              "   Média de P. Produtividade por Hora  \n",
              "0                                1.33  \n",
              "1                                0.86  \n",
              "2                                0.88  \n",
              "3                                1.33  \n",
              "4                                1.14  \n",
              "5                                1.00  \n",
              "6                                0.75  "
            ],
            "text/html": [
              "\n",
              "\n",
              "  <div id=\"df-dfc1a9cb-7995-412b-a25f-5bacfb049453\">\n",
              "    <div class=\"colab-df-container\">\n",
              "      <div>\n",
              "<style scoped>\n",
              "    .dataframe tbody tr th:only-of-type {\n",
              "        vertical-align: middle;\n",
              "    }\n",
              "\n",
              "    .dataframe tbody tr th {\n",
              "        vertical-align: top;\n",
              "    }\n",
              "\n",
              "    .dataframe thead th {\n",
              "        text-align: right;\n",
              "    }\n",
              "</style>\n",
              "<table border=\"1\" class=\"dataframe\">\n",
              "  <thead>\n",
              "    <tr style=\"text-align: right;\">\n",
              "      <th></th>\n",
              "      <th>Dia</th>\n",
              "      <th>Horas Trabalhadas</th>\n",
              "      <th>Bugs Corrigidos</th>\n",
              "      <th>Tarefas Concluídas</th>\n",
              "      <th>Produtividade Diária</th>\n",
              "      <th>P. Produtividade Diária</th>\n",
              "      <th>Média de P. Produtividade por Hora</th>\n",
              "    </tr>\n",
              "  </thead>\n",
              "  <tbody>\n",
              "    <tr>\n",
              "      <th>0</th>\n",
              "      <td>Segunda</td>\n",
              "      <td>6</td>\n",
              "      <td>3</td>\n",
              "      <td>5</td>\n",
              "      <td>0.83</td>\n",
              "      <td>8</td>\n",
              "      <td>1.33</td>\n",
              "    </tr>\n",
              "    <tr>\n",
              "      <th>1</th>\n",
              "      <td>Terça</td>\n",
              "      <td>7</td>\n",
              "      <td>2</td>\n",
              "      <td>4</td>\n",
              "      <td>0.57</td>\n",
              "      <td>6</td>\n",
              "      <td>0.86</td>\n",
              "    </tr>\n",
              "    <tr>\n",
              "      <th>2</th>\n",
              "      <td>Quarta</td>\n",
              "      <td>8</td>\n",
              "      <td>1</td>\n",
              "      <td>6</td>\n",
              "      <td>0.75</td>\n",
              "      <td>7</td>\n",
              "      <td>0.88</td>\n",
              "    </tr>\n",
              "    <tr>\n",
              "      <th>3</th>\n",
              "      <td>Quinta</td>\n",
              "      <td>6</td>\n",
              "      <td>4</td>\n",
              "      <td>4</td>\n",
              "      <td>0.67</td>\n",
              "      <td>8</td>\n",
              "      <td>1.33</td>\n",
              "    </tr>\n",
              "    <tr>\n",
              "      <th>4</th>\n",
              "      <td>Sexta</td>\n",
              "      <td>7</td>\n",
              "      <td>3</td>\n",
              "      <td>5</td>\n",
              "      <td>0.71</td>\n",
              "      <td>8</td>\n",
              "      <td>1.14</td>\n",
              "    </tr>\n",
              "    <tr>\n",
              "      <th>5</th>\n",
              "      <td>Sábado</td>\n",
              "      <td>5</td>\n",
              "      <td>2</td>\n",
              "      <td>3</td>\n",
              "      <td>0.60</td>\n",
              "      <td>5</td>\n",
              "      <td>1.00</td>\n",
              "    </tr>\n",
              "    <tr>\n",
              "      <th>6</th>\n",
              "      <td>Domingo</td>\n",
              "      <td>4</td>\n",
              "      <td>1</td>\n",
              "      <td>2</td>\n",
              "      <td>0.50</td>\n",
              "      <td>3</td>\n",
              "      <td>0.75</td>\n",
              "    </tr>\n",
              "  </tbody>\n",
              "</table>\n",
              "</div>\n",
              "      <button class=\"colab-df-convert\" onclick=\"convertToInteractive('df-dfc1a9cb-7995-412b-a25f-5bacfb049453')\"\n",
              "              title=\"Convert this dataframe to an interactive table.\"\n",
              "              style=\"display:none;\">\n",
              "\n",
              "  <svg xmlns=\"http://www.w3.org/2000/svg\" height=\"24px\"viewBox=\"0 0 24 24\"\n",
              "       width=\"24px\">\n",
              "    <path d=\"M0 0h24v24H0V0z\" fill=\"none\"/>\n",
              "    <path d=\"M18.56 5.44l.94 2.06.94-2.06 2.06-.94-2.06-.94-.94-2.06-.94 2.06-2.06.94zm-11 1L8.5 8.5l.94-2.06 2.06-.94-2.06-.94L8.5 2.5l-.94 2.06-2.06.94zm10 10l.94 2.06.94-2.06 2.06-.94-2.06-.94-.94-2.06-.94 2.06-2.06.94z\"/><path d=\"M17.41 7.96l-1.37-1.37c-.4-.4-.92-.59-1.43-.59-.52 0-1.04.2-1.43.59L10.3 9.45l-7.72 7.72c-.78.78-.78 2.05 0 2.83L4 21.41c.39.39.9.59 1.41.59.51 0 1.02-.2 1.41-.59l7.78-7.78 2.81-2.81c.8-.78.8-2.07 0-2.86zM5.41 20L4 18.59l7.72-7.72 1.47 1.35L5.41 20z\"/>\n",
              "  </svg>\n",
              "      </button>\n",
              "\n",
              "\n",
              "\n",
              "    <div id=\"df-6de649ad-5cd9-4c18-afae-7cb4386af216\">\n",
              "      <button class=\"colab-df-quickchart\" onclick=\"quickchart('df-6de649ad-5cd9-4c18-afae-7cb4386af216')\"\n",
              "              title=\"Suggest charts.\"\n",
              "              style=\"display:none;\">\n",
              "\n",
              "<svg xmlns=\"http://www.w3.org/2000/svg\" height=\"24px\"viewBox=\"0 0 24 24\"\n",
              "     width=\"24px\">\n",
              "    <g>\n",
              "        <path d=\"M19 3H5c-1.1 0-2 .9-2 2v14c0 1.1.9 2 2 2h14c1.1 0 2-.9 2-2V5c0-1.1-.9-2-2-2zM9 17H7v-7h2v7zm4 0h-2V7h2v10zm4 0h-2v-4h2v4z\"/>\n",
              "    </g>\n",
              "</svg>\n",
              "      </button>\n",
              "    </div>\n",
              "\n",
              "<style>\n",
              "  .colab-df-quickchart {\n",
              "    background-color: #E8F0FE;\n",
              "    border: none;\n",
              "    border-radius: 50%;\n",
              "    cursor: pointer;\n",
              "    display: none;\n",
              "    fill: #1967D2;\n",
              "    height: 32px;\n",
              "    padding: 0 0 0 0;\n",
              "    width: 32px;\n",
              "  }\n",
              "\n",
              "  .colab-df-quickchart:hover {\n",
              "    background-color: #E2EBFA;\n",
              "    box-shadow: 0px 1px 2px rgba(60, 64, 67, 0.3), 0px 1px 3px 1px rgba(60, 64, 67, 0.15);\n",
              "    fill: #174EA6;\n",
              "  }\n",
              "\n",
              "  [theme=dark] .colab-df-quickchart {\n",
              "    background-color: #3B4455;\n",
              "    fill: #D2E3FC;\n",
              "  }\n",
              "\n",
              "  [theme=dark] .colab-df-quickchart:hover {\n",
              "    background-color: #434B5C;\n",
              "    box-shadow: 0px 1px 3px 1px rgba(0, 0, 0, 0.15);\n",
              "    filter: drop-shadow(0px 1px 2px rgba(0, 0, 0, 0.3));\n",
              "    fill: #FFFFFF;\n",
              "  }\n",
              "</style>\n",
              "\n",
              "    <script>\n",
              "      async function quickchart(key) {\n",
              "        const containerElement = document.querySelector('#' + key);\n",
              "        const charts = await google.colab.kernel.invokeFunction(\n",
              "            'suggestCharts', [key], {});\n",
              "      }\n",
              "    </script>\n",
              "\n",
              "      <script>\n",
              "\n",
              "function displayQuickchartButton(domScope) {\n",
              "  let quickchartButtonEl =\n",
              "    domScope.querySelector('#df-6de649ad-5cd9-4c18-afae-7cb4386af216 button.colab-df-quickchart');\n",
              "  quickchartButtonEl.style.display =\n",
              "    google.colab.kernel.accessAllowed ? 'block' : 'none';\n",
              "}\n",
              "\n",
              "        displayQuickchartButton(document);\n",
              "      </script>\n",
              "      <style>\n",
              "    .colab-df-container {\n",
              "      display:flex;\n",
              "      flex-wrap:wrap;\n",
              "      gap: 12px;\n",
              "    }\n",
              "\n",
              "    .colab-df-convert {\n",
              "      background-color: #E8F0FE;\n",
              "      border: none;\n",
              "      border-radius: 50%;\n",
              "      cursor: pointer;\n",
              "      display: none;\n",
              "      fill: #1967D2;\n",
              "      height: 32px;\n",
              "      padding: 0 0 0 0;\n",
              "      width: 32px;\n",
              "    }\n",
              "\n",
              "    .colab-df-convert:hover {\n",
              "      background-color: #E2EBFA;\n",
              "      box-shadow: 0px 1px 2px rgba(60, 64, 67, 0.3), 0px 1px 3px 1px rgba(60, 64, 67, 0.15);\n",
              "      fill: #174EA6;\n",
              "    }\n",
              "\n",
              "    [theme=dark] .colab-df-convert {\n",
              "      background-color: #3B4455;\n",
              "      fill: #D2E3FC;\n",
              "    }\n",
              "\n",
              "    [theme=dark] .colab-df-convert:hover {\n",
              "      background-color: #434B5C;\n",
              "      box-shadow: 0px 1px 3px 1px rgba(0, 0, 0, 0.15);\n",
              "      filter: drop-shadow(0px 1px 2px rgba(0, 0, 0, 0.3));\n",
              "      fill: #FFFFFF;\n",
              "    }\n",
              "  </style>\n",
              "\n",
              "      <script>\n",
              "        const buttonEl =\n",
              "          document.querySelector('#df-dfc1a9cb-7995-412b-a25f-5bacfb049453 button.colab-df-convert');\n",
              "        buttonEl.style.display =\n",
              "          google.colab.kernel.accessAllowed ? 'block' : 'none';\n",
              "\n",
              "        async function convertToInteractive(key) {\n",
              "          const element = document.querySelector('#df-dfc1a9cb-7995-412b-a25f-5bacfb049453');\n",
              "          const dataTable =\n",
              "            await google.colab.kernel.invokeFunction('convertToInteractive',\n",
              "                                                     [key], {});\n",
              "          if (!dataTable) return;\n",
              "\n",
              "          const docLinkHtml = 'Like what you see? Visit the ' +\n",
              "            '<a target=\"_blank\" href=https://colab.research.google.com/notebooks/data_table.ipynb>data table notebook</a>'\n",
              "            + ' to learn more about interactive tables.';\n",
              "          element.innerHTML = '';\n",
              "          dataTable['output_type'] = 'display_data';\n",
              "          await google.colab.output.renderOutput(dataTable, element);\n",
              "          const docLink = document.createElement('div');\n",
              "          docLink.innerHTML = docLinkHtml;\n",
              "          element.appendChild(docLink);\n",
              "        }\n",
              "      </script>\n",
              "    </div>\n",
              "  </div>\n"
            ]
          },
          "metadata": {},
          "execution_count": 31
        }
      ]
    },
    {
      "cell_type": "code",
      "source": [
        "# Total de pontos de de produtividade feitos pela equipe\n",
        "pontos_produtividade = df_dados_semanais['P. Produtividade Diária'].sum()\n",
        "print('O Total de pontos de produtividade da equipe na semana foi de: ', pontos_produtividade, 'pontos')"
      ],
      "metadata": {
        "colab": {
          "base_uri": "https://localhost:8080/"
        },
        "id": "wQ0E2DxBW7vT",
        "outputId": "7ada35a3-33bb-46be-df2f-80e3f3c0c4b9"
      },
      "execution_count": 52,
      "outputs": [
        {
          "output_type": "stream",
          "name": "stdout",
          "text": [
            "O Total de pontos de produtividade da equipe na semana foi de:  45 pontos\n"
          ]
        }
      ]
    },
    {
      "cell_type": "code",
      "source": [
        "# Média de pontos de produtividade por dia\n",
        "pontos_produtividade_media = df_dados_semanais['P. Produtividade Diária'].mean()\n",
        "print('A Média de pontos de produtividade diária na semana, foi de: %.2f' % pontos_produtividade_media, 'pontos')"
      ],
      "metadata": {
        "colab": {
          "base_uri": "https://localhost:8080/"
        },
        "id": "J7BQXhscWFkz",
        "outputId": "a30da7a9-217c-4d68-e4d9-60ab2c1ab469"
      },
      "execution_count": 70,
      "outputs": [
        {
          "output_type": "stream",
          "name": "stdout",
          "text": [
            "A Média de pontos de produtividade diária na semana, foi de: 6.43 pontos\n"
          ]
        }
      ]
    },
    {
      "cell_type": "code",
      "source": [
        "# Média de pontos de produtividade por hora\n",
        "produtividade_hora_media = (pontos_produtividade / horas_trabalhadas_total)\n",
        "print('A Média de pontos de produtividade da equipe por hora foi de: %.2f' % produtividade_hora_media, 'pontos')\n"
      ],
      "metadata": {
        "colab": {
          "base_uri": "https://localhost:8080/"
        },
        "id": "-IAaB_mSXpWK",
        "outputId": "ed6d4159-b21f-4d32-fcbd-24fdffeb5149"
      },
      "execution_count": 71,
      "outputs": [
        {
          "output_type": "stream",
          "name": "stdout",
          "text": [
            "A Média de pontos de produtividade da equipe por hora foi de: 1.05 pontos\n"
          ]
        }
      ]
    },
    {
      "cell_type": "code",
      "source": [
        "# Criação do gráfico da média de P. Produtividade Diária\n",
        "# Setando figura e eixos\n",
        "fig, (ax1) = mpl.subplots(1, figsize=(8, 4))\n",
        "\n",
        "# Criação do gráfico de retas\n",
        "ax1.plot(df_dados_semanais['Dia'],\n",
        "         df_dados_semanais['Média de P. Produtividade por Hora'],\n",
        "         marker='o',\n",
        "         color = 'purple')\n",
        "\n",
        "# Setando a figura do gráfico\n",
        "ax1.set_title('Pontos de Produtividade (por hora) durante a semana')\n",
        "mpl.ylim(0, 1.5)\n",
        "\n",
        "# Mostra o gráfico\n",
        "mpl.grid(True)\n",
        "fig = mpl.gcf()\n",
        "mpl.show()"
      ],
      "metadata": {
        "colab": {
          "base_uri": "https://localhost:8080/",
          "height": 391
        },
        "id": "cbvLAYaJ6Vuj",
        "outputId": "ff39e549-6c11-4747-f683-58fc3ef6374d"
      },
      "execution_count": 74,
      "outputs": [
        {
          "output_type": "display_data",
          "data": {
            "text/plain": [
              "<Figure size 800x400 with 1 Axes>"
            ],
            "image/png": "[encoded data removed]"
          },
          "metadata": {}
        }
      ]
    },
    {
      "cell_type": "markdown",
      "source": [
        "- Seguindo o raciocínio de acompanhamento de entrega das atividades, para medir a produtividade da equipe também é indispensável a métrica: 'Produtividade Diária', onde aqui são calculados a quantidade de **Tarefas Concluídas** + **Bugs Corrigidos** resultando nos **\"Pontos de Produtividade\"**. E dividindo esse resultado por **horas trabalhadas**, temos a média de **\"Pontos de Produtividade por hora\"**, essa medida nos ajuda a identificar as seguintes informações:\n",
        "\n",
        "- ° A quantidade total de pontos de produtividade foi de **45 pontos**\n",
        "- ° O Pico de pontos de produtividade, que aconteceu na **Segunda**, com um total de **1.33** pontos por **hora**.\n",
        "- ° O Menor número de produtividade foi registrado no **Domingo**, com apenas **0.75 pontos** por **hora**. Seguindo a lógica dos gráficos anteriores, os finais de semana por conta das folgas tendem a diminuir drasticamente as estatísticas.\n",
        "- ° A **Média** diária de pontos de produtividade foi de **6.43 pontos**\n",
        "- ° A **Média** por hora de produtividade foi de **1.05 pontos**."
      ],
      "metadata": {
        "id": "KerKG4q98mPE"
      }
    },
    {
      "cell_type": "markdown",
      "source": [
        "### **Pontos de Produtividade X Produtividade Diária**"
      ],
      "metadata": {
        "id": "PgevT3Y7reSm"
      }
    },
    {
      "cell_type": "code",
      "source": [
        "# Criação do gráfico de P. Produtividade Diária X Produtividade Diária\n",
        "# Setando figura e eixos\n",
        "fig, (ax1) = mpl.subplots(1, figsize=(8, 4))\n",
        "\n",
        "# Criação do gráfico\n",
        "ax1.plot(df_dados_semanais['Dia'],\n",
        "         df_dados_semanais['Média de P. Produtividade por Hora'],\n",
        "         marker='o',\n",
        "         label='Média de P. Produtividade (por hora)',\n",
        "         color = 'purple')\n",
        "ax1.plot(df_dados_semanais['Dia'],\n",
        "         df_dados_semanais['Produtividade Diária'],\n",
        "         marker='o',\n",
        "         label='Produtividade Diária (por hora)',\n",
        "         color = 'olive')\n",
        "\n",
        "# Setando a figura do gráfico\n",
        "ax1.set_title('Pontos de Produtividade X Produtividade Diária')\n",
        "mpl.ylim(0, 1.5)\n",
        "\n",
        "# Mostra o gráfico\n",
        "mpl.legend()\n",
        "mpl.grid(True)\n",
        "fig = mpl.gcf()\n",
        "mpl.show()"
      ],
      "metadata": {
        "colab": {
          "base_uri": "https://localhost:8080/",
          "height": 391
        },
        "id": "csW99qUUzqsq",
        "outputId": "d0fc4a48-77c4-49bd-c40e-06aeccd9ae6a"
      },
      "execution_count": 87,
      "outputs": [
        {
          "output_type": "display_data",
          "data": {
            "text/plain": [
              "<Figure size 800x400 with 1 Axes>"
            ],
            "image/png": "[encoded data removed]"
          },
          "metadata": {}
        }
      ]
    },
    {
      "cell_type": "markdown",
      "source": [
        "- Podemos perceber que, incluindo Bugs corrigidos na produtividade da equipe, ganhamos bastante em performace, comparando com o grafico de apenas tarefas concluídas, Temos picos bem maiores, principalmente na segunda, e na quinta. Tendo assim uma perspectiva bem diferente de como está sendo o desempenho da equipe, um dia com muitos bugs resolvidos, pode não gerar tarefas concluídas, mas foram essas correções que fizeram o projeto ter andamento e seguir em desenvolvimento."
      ],
      "metadata": {
        "id": "qPtuPkc_5R1P"
      }
    },
    {
      "cell_type": "markdown",
      "source": [
        "### **Pontos de Produtividade X Horas Trabalhadas**"
      ],
      "metadata": {
        "id": "92qKlRgS52Nw"
      }
    },
    {
      "cell_type": "code",
      "source": [
        "# Criação do gráfico de Pontos de Produtividade X Horas Trabalhadas\n",
        "# Setando figura e eixos\n",
        "fig, (ax1) = mpl.subplots(1, figsize=(8, 4))\n",
        "\n",
        "# Criação do gráfico\n",
        "ax1.plot(df_dados_semanais['Dia'], # Define as colunas\n",
        "         df_dados_semanais['P. Produtividade Diária'], # Define as linhas\n",
        "         marker='o', # Cria um ponto para cada parada(dia) da reta\n",
        "         label='P. Produtividade (por dia)', # define legenda da figura\n",
        "         color = 'purple') # define a cor do traço gráfico\n",
        "ax1.plot(df_dados_semanais['Dia'],\n",
        "         df_dados_semanais['Horas Trabalhadas'],\n",
        "         marker='o',\n",
        "         label='Horas Trabalhadas (por dia)',\n",
        "         color = 'goldenrod')\n",
        "\n",
        "# Setando a figura do gráfico\n",
        "ax1.set_title('Pontos de Produtividade X Horas Trabalhadas') # define o título da figura\n",
        "mpl.ylim(2, 10) # define os limites de linhas\n",
        "mpl.legend() # ativa legenda na figura\n",
        "mpl.grid(True) # ativa o grid por trás do gráfico\n",
        "fig = mpl.gcf() # Mostra figuras setadas em supra\n",
        "mpl.show() # Mostra o gráfico"
      ],
      "metadata": {
        "colab": {
          "base_uri": "https://localhost:8080/",
          "height": 391
        },
        "id": "vr5cC-9f6Onj",
        "outputId": "83a406c6-b2be-42ca-ac9b-878b9e4cc799"
      },
      "execution_count": 97,
      "outputs": [
        {
          "output_type": "display_data",
          "data": {
            "text/plain": [
              "<Figure size 800x400 with 1 Axes>"
            ],
            "image/png": "[encoded data removed]"
          },
          "metadata": {}
        }
      ]
    },
    {
      "cell_type": "markdown",
      "source": [
        "- Podemos analisar com esse gráfico uma importante informação, quando a carga horaria é menor, a produtividade da equipe é maior, da quarta até a sexta se manteve a média de horas trabalhadas, mas com uma ascensção de Pontos de produtividade, o que mostra um bom desempenho da equipe nesse meio de semana. Após a sexta ambos os dados caem, claro por conta do fim de semana, mas podemos observar ainda que os Pontos de produtividade são ainda mais baixos que as horas trabalhadas, realmente não é nada produtivo o trabalho nos fins de semana."
      ],
      "metadata": {
        "id": "OsgX216A8NG0"
      }
    },
    {
      "cell_type": "markdown",
      "source": [
        "## **Conclusão**"
      ],
      "metadata": {
        "id": "Q8t9NyQP_Apd"
      }
    },
    {
      "cell_type": "markdown",
      "source": [
        "- Podemos concluir após toda a analise, que no geral a equipe vem desempenhando bem, com algumas quedas por conta de variáveis, sejam elas muitos bugs no caminho ou a baixa produtividade óbvia do fim de semana, o gráfico de Pontos de Produtividade X Horas Trabalhadas retrata bem isso, podemos ver uma linha parelha durante todos os dias úteis da semana, entre 6 e 8 Horas trabalhadas, e entre 6 e 8 Pontos de produtividade diários, o que mostra estabilidade de desempenho."
      ],
      "metadata": {
        "id": "MQYdADxi_syE"
      }
    },
    {
      "cell_type": "markdown",
      "source": [
        "- Um ponto bem importante a ressaltar é o empenho do time quando a carga horaria é menor, exceto nos fins de semana, todos os dias com carga horaria mais baixa, tiveram desempenho melhores, mudando o cenário totalmente quando as cargas horarias aumentam, isso claro seguindo o gráfico de Pontos de produtividade, que conta Bugs corrigidos como produtividade."
      ],
      "metadata": {
        "id": "P3L_JNqRCeig"
      }
    },
    {
      "cell_type": "markdown",
      "source": [
        "- Uma padronização de horarios poderia ser aderida pelo time, temos variações demais nos gráficos, causadas principalmente pela carga horaria muito variada, seguindo a média, uma carga diária de 6 ha 7 horas, como foi realizada na Segunda, Quinta e Sexta, seria uma ótima medida para manter o desempenho elevado durante toda a semana."
      ],
      "metadata": {
        "id": "iNjT7bbzEQx6"
      }
    },
    {
      "cell_type": "markdown",
      "source": [
        "- Por: Alex Santana (Analista de Dados - Júnior)"
      ],
      "metadata": {
        "id": "3mw6Ky-GEz2K"
      }
    }
  ]
}