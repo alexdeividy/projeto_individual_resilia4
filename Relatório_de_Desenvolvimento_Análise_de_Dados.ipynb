{
  "nbformat": 4,
  "nbformat_minor": 0,
  "metadata": {
    "colab": {
      "provenance": []
    },
    "kernelspec": {
      "name": "python3",
      "display_name": "Python 3"
    },
    "language_info": {
      "name": "python"
    }
  },
  "cells": [
    {
      "cell_type": "markdown",
      "source": [
        "# **Relatório de Desenvolvimento - Análise de Dados**"
      ],
      "metadata": {
        "id": "6Yv7-kA9R9qu"
      }
    },
    {
      "cell_type": "markdown",
      "source": [
        "- O Relatório a seguir irá demonstrar os resultados de uma análise feita com base nos dados fornecidos pela empresa 'Softwarlex'. Fornecendo insights sobre o progresso do projeto, e oferecendo informações para ajudar no decorrer do desenvolvimento, como: Possíveis pontos de melhoria, e melhor tomada de decisões."
      ],
      "metadata": {
        "id": "XnZOsH_mR_u9"
      }
    },
    {
      "cell_type": "markdown",
      "source": [
        "- A tabela abaixo contém dados coletados de uma semana de desenvolvimento da equipe, contendo: Dias da semana, horas trabalhadas, bugs corrigidos e tarefas concluídas."
      ],
      "metadata": {
        "id": "pUxxiKaZWRHF"
      }
    },
    {
      "cell_type": "code",
      "source": [
        "# Chamada das libs\n",
        "import pandas as pd\n",
        "import matplotlib.pyplot as mpl"
      ],
      "metadata": {
        "id": "W7NS4NQBWyJZ"
      },
      "execution_count": 2,
      "outputs": []
    },
    {
      "cell_type": "code",
      "source": [
        "# Dados da semana fornecidos pela empresa\n",
        "dados_fornecidos = {\n",
        "    'Dia': ['Segunda', 'Terça', 'Quarta', 'Quinta', 'Sexta', 'Sábado', 'Domingo'],\n",
        "    'Horas Trabalhadas': [6,7,8,6,7,5,4],\n",
        "    'Bugs Corrigidos' : [3,2,1,4,3,2,1],\n",
        "    'Tarefas Concluídas' : [5,4,6,4,5,3,2]\n",
        "}\n",
        "\n",
        "# Criação do DataFrame\n",
        "tabela = pd.DataFrame(dados_fornecidos)\n",
        "tabela"
      ],
      "metadata": {
        "colab": {
          "base_uri": "https://localhost:8080/",
          "height": 269
        },
        "id": "w3Jdt7z0XiTN",
        "outputId": "acb46c99-069c-4f0c-f718-ed9e4bb3dfc9"
      },
      "execution_count": 3,
      "outputs": [
        {
          "output_type": "execute_result",
          "data": {
            "text/plain": [
              "       Dia  Horas Trabalhadas  Bugs Corrigidos  Tarefas Concluídas\n",
              "0  Segunda                  6                3                   5\n",
              "1    Terça                  7                2                   4\n",
              "2   Quarta                  8                1                   6\n",
              "3   Quinta                  6                4                   4\n",
              "4    Sexta                  7                3                   5\n",
              "5   Sábado                  5                2                   3\n",
              "6  Domingo                  4                1                   2"
            ],
            "text/html": [
              "\n",
              "\n",
              "  <div id=\"df-a16bfbb6-fd16-4462-95eb-788355242e61\">\n",
              "    <div class=\"colab-df-container\">\n",
              "      <div>\n",
              "<style scoped>\n",
              "    .dataframe tbody tr th:only-of-type {\n",
              "        vertical-align: middle;\n",
              "    }\n",
              "\n",
              "    .dataframe tbody tr th {\n",
              "        vertical-align: top;\n",
              "    }\n",
              "\n",
              "    .dataframe thead th {\n",
              "        text-align: right;\n",
              "    }\n",
              "</style>\n",
              "<table border=\"1\" class=\"dataframe\">\n",
              "  <thead>\n",
              "    <tr style=\"text-align: right;\">\n",
              "      <th></th>\n",
              "      <th>Dia</th>\n",
              "      <th>Horas Trabalhadas</th>\n",
              "      <th>Bugs Corrigidos</th>\n",
              "      <th>Tarefas Concluídas</th>\n",
              "    </tr>\n",
              "  </thead>\n",
              "  <tbody>\n",
              "    <tr>\n",
              "      <th>0</th>\n",
              "      <td>Segunda</td>\n",
              "      <td>6</td>\n",
              "      <td>3</td>\n",
              "      <td>5</td>\n",
              "    </tr>\n",
              "    <tr>\n",
              "      <th>1</th>\n",
              "      <td>Terça</td>\n",
              "      <td>7</td>\n",
              "      <td>2</td>\n",
              "      <td>4</td>\n",
              "    </tr>\n",
              "    <tr>\n",
              "      <th>2</th>\n",
              "      <td>Quarta</td>\n",
              "      <td>8</td>\n",
              "      <td>1</td>\n",
              "      <td>6</td>\n",
              "    </tr>\n",
              "    <tr>\n",
              "      <th>3</th>\n",
              "      <td>Quinta</td>\n",
              "      <td>6</td>\n",
              "      <td>4</td>\n",
              "      <td>4</td>\n",
              "    </tr>\n",
              "    <tr>\n",
              "      <th>4</th>\n",
              "      <td>Sexta</td>\n",
              "      <td>7</td>\n",
              "      <td>3</td>\n",
              "      <td>5</td>\n",
              "    </tr>\n",
              "    <tr>\n",
              "      <th>5</th>\n",
              "      <td>Sábado</td>\n",
              "      <td>5</td>\n",
              "      <td>2</td>\n",
              "      <td>3</td>\n",
              "    </tr>\n",
              "    <tr>\n",
              "      <th>6</th>\n",
              "      <td>Domingo</td>\n",
              "      <td>4</td>\n",
              "      <td>1</td>\n",
              "      <td>2</td>\n",
              "    </tr>\n",
              "  </tbody>\n",
              "</table>\n",
              "</div>\n",
              "      <button class=\"colab-df-convert\" onclick=\"convertToInteractive('df-a16bfbb6-fd16-4462-95eb-788355242e61')\"\n",
              "              title=\"Convert this dataframe to an interactive table.\"\n",
              "              style=\"display:none;\">\n",
              "\n",
              "  <svg xmlns=\"http://www.w3.org/2000/svg\" height=\"24px\"viewBox=\"0 0 24 24\"\n",
              "       width=\"24px\">\n",
              "    <path d=\"M0 0h24v24H0V0z\" fill=\"none\"/>\n",
              "    <path d=\"M18.56 5.44l.94 2.06.94-2.06 2.06-.94-2.06-.94-.94-2.06-.94 2.06-2.06.94zm-11 1L8.5 8.5l.94-2.06 2.06-.94-2.06-.94L8.5 2.5l-.94 2.06-2.06.94zm10 10l.94 2.06.94-2.06 2.06-.94-2.06-.94-.94-2.06-.94 2.06-2.06.94z\"/><path d=\"M17.41 7.96l-1.37-1.37c-.4-.4-.92-.59-1.43-.59-.52 0-1.04.2-1.43.59L10.3 9.45l-7.72 7.72c-.78.78-.78 2.05 0 2.83L4 21.41c.39.39.9.59 1.41.59.51 0 1.02-.2 1.41-.59l7.78-7.78 2.81-2.81c.8-.78.8-2.07 0-2.86zM5.41 20L4 18.59l7.72-7.72 1.47 1.35L5.41 20z\"/>\n",
              "  </svg>\n",
              "      </button>\n",
              "\n",
              "\n",
              "\n",
              "    <div id=\"df-2089a6bb-3392-4e9a-a525-5b0fc842ad5d\">\n",
              "      <button class=\"colab-df-quickchart\" onclick=\"quickchart('df-2089a6bb-3392-4e9a-a525-5b0fc842ad5d')\"\n",
              "              title=\"Suggest charts.\"\n",
              "              style=\"display:none;\">\n",
              "\n",
              "<svg xmlns=\"http://www.w3.org/2000/svg\" height=\"24px\"viewBox=\"0 0 24 24\"\n",
              "     width=\"24px\">\n",
              "    <g>\n",
              "        <path d=\"M19 3H5c-1.1 0-2 .9-2 2v14c0 1.1.9 2 2 2h14c1.1 0 2-.9 2-2V5c0-1.1-.9-2-2-2zM9 17H7v-7h2v7zm4 0h-2V7h2v10zm4 0h-2v-4h2v4z\"/>\n",
              "    </g>\n",
              "</svg>\n",
              "      </button>\n",
              "    </div>\n",
              "\n",
              "<style>\n",
              "  .colab-df-quickchart {\n",
              "    background-color: #E8F0FE;\n",
              "    border: none;\n",
              "    border-radius: 50%;\n",
              "    cursor: pointer;\n",
              "    display: none;\n",
              "    fill: #1967D2;\n",
              "    height: 32px;\n",
              "    padding: 0 0 0 0;\n",
              "    width: 32px;\n",
              "  }\n",
              "\n",
              "  .colab-df-quickchart:hover {\n",
              "    background-color: #E2EBFA;\n",
              "    box-shadow: 0px 1px 2px rgba(60, 64, 67, 0.3), 0px 1px 3px 1px rgba(60, 64, 67, 0.15);\n",
              "    fill: #174EA6;\n",
              "  }\n",
              "\n",
              "  [theme=dark] .colab-df-quickchart {\n",
              "    background-color: #3B4455;\n",
              "    fill: #D2E3FC;\n",
              "  }\n",
              "\n",
              "  [theme=dark] .colab-df-quickchart:hover {\n",
              "    background-color: #434B5C;\n",
              "    box-shadow: 0px 1px 3px 1px rgba(0, 0, 0, 0.15);\n",
              "    filter: drop-shadow(0px 1px 2px rgba(0, 0, 0, 0.3));\n",
              "    fill: #FFFFFF;\n",
              "  }\n",
              "</style>\n",
              "\n",
              "    <script>\n",
              "      async function quickchart(key) {\n",
              "        const containerElement = document.querySelector('#' + key);\n",
              "        const charts = await google.colab.kernel.invokeFunction(\n",
              "            'suggestCharts', [key], {});\n",
              "      }\n",
              "    </script>\n",
              "\n",
              "      <script>\n",
              "\n",
              "function displayQuickchartButton(domScope) {\n",
              "  let quickchartButtonEl =\n",
              "    domScope.querySelector('#df-2089a6bb-3392-4e9a-a525-5b0fc842ad5d button.colab-df-quickchart');\n",
              "  quickchartButtonEl.style.display =\n",
              "    google.colab.kernel.accessAllowed ? 'block' : 'none';\n",
              "}\n",
              "\n",
              "        displayQuickchartButton(document);\n",
              "      </script>\n",
              "      <style>\n",
              "    .colab-df-container {\n",
              "      display:flex;\n",
              "      flex-wrap:wrap;\n",
              "      gap: 12px;\n",
              "    }\n",
              "\n",
              "    .colab-df-convert {\n",
              "      background-color: #E8F0FE;\n",
              "      border: none;\n",
              "      border-radius: 50%;\n",
              "      cursor: pointer;\n",
              "      display: none;\n",
              "      fill: #1967D2;\n",
              "      height: 32px;\n",
              "      padding: 0 0 0 0;\n",
              "      width: 32px;\n",
              "    }\n",
              "\n",
              "    .colab-df-convert:hover {\n",
              "      background-color: #E2EBFA;\n",
              "      box-shadow: 0px 1px 2px rgba(60, 64, 67, 0.3), 0px 1px 3px 1px rgba(60, 64, 67, 0.15);\n",
              "      fill: #174EA6;\n",
              "    }\n",
              "\n",
              "    [theme=dark] .colab-df-convert {\n",
              "      background-color: #3B4455;\n",
              "      fill: #D2E3FC;\n",
              "    }\n",
              "\n",
              "    [theme=dark] .colab-df-convert:hover {\n",
              "      background-color: #434B5C;\n",
              "      box-shadow: 0px 1px 3px 1px rgba(0, 0, 0, 0.15);\n",
              "      filter: drop-shadow(0px 1px 2px rgba(0, 0, 0, 0.3));\n",
              "      fill: #FFFFFF;\n",
              "    }\n",
              "  </style>\n",
              "\n",
              "      <script>\n",
              "        const buttonEl =\n",
              "          document.querySelector('#df-a16bfbb6-fd16-4462-95eb-788355242e61 button.colab-df-convert');\n",
              "        buttonEl.style.display =\n",
              "          google.colab.kernel.accessAllowed ? 'block' : 'none';\n",
              "\n",
              "        async function convertToInteractive(key) {\n",
              "          const element = document.querySelector('#df-a16bfbb6-fd16-4462-95eb-788355242e61');\n",
              "          const dataTable =\n",
              "            await google.colab.kernel.invokeFunction('convertToInteractive',\n",
              "                                                     [key], {});\n",
              "          if (!dataTable) return;\n",
              "\n",
              "          const docLinkHtml = 'Like what you see? Visit the ' +\n",
              "            '<a target=\"_blank\" href=https://colab.research.google.com/notebooks/data_table.ipynb>data table notebook</a>'\n",
              "            + ' to learn more about interactive tables.';\n",
              "          element.innerHTML = '';\n",
              "          dataTable['output_type'] = 'display_data';\n",
              "          await google.colab.output.renderOutput(dataTable, element);\n",
              "          const docLink = document.createElement('div');\n",
              "          docLink.innerHTML = docLinkHtml;\n",
              "          element.appendChild(docLink);\n",
              "        }\n",
              "      </script>\n",
              "    </div>\n",
              "  </div>\n"
            ]
          },
          "metadata": {},
          "execution_count": 3
        }
      ]
    },
    {
      "cell_type": "markdown",
      "source": [
        "- Será mostrado um relátorio de progresso diário para mostrar a produtividade de trabalhho dos funcionários. Serão feitos cálculos seguindo métricas dos itens abaixo:"
      ],
      "metadata": {
        "id": "J2ECUTmlanpu"
      }
    },
    {
      "cell_type": "markdown",
      "source": [
        "- ° Total de Horas Trabalhadas\n",
        "- ° Média Diária de Horas Trabalhadas\n",
        "- ° Total de Bugs Corrigidos\n",
        "- ° Média Diária de Bugs Corrigidos\n",
        "- ° Total de Tarefas Concluídas\n",
        "- ° Média Diária de Tarefas Concluídas\n",
        "- ° Produtividade Diária (Tarefas Concluídas por Hora)\n",
        "\n",
        "\n",
        "\n"
      ],
      "metadata": {
        "id": "Geoc2OVmbn_F"
      }
    },
    {
      "cell_type": "markdown",
      "source": [
        "## **Horas trabalhadas**"
      ],
      "metadata": {
        "id": "eMlsZBAHckkA"
      }
    },
    {
      "cell_type": "code",
      "source": [
        "# Total de horas trabalhadas pela equipe\n",
        "horas_trabalhadas_total = sum([6,7,8,6,7,5,4])\n",
        "print('O Total de horas trabalhadas pela equipe foi de:', horas_trabalhadas_total, 'horas')"
      ],
      "metadata": {
        "colab": {
          "base_uri": "https://localhost:8080/"
        },
        "id": "IqnxTSTmdByC",
        "outputId": "cd6e1d49-75f5-45e4-b528-48f767149492"
      },
      "execution_count": 9,
      "outputs": [
        {
          "output_type": "stream",
          "name": "stdout",
          "text": [
            "O Total de horas trabalhadas pela equipe foi de: 43 horas\n"
          ]
        }
      ]
    },
    {
      "cell_type": "code",
      "source": [
        "# Média das horas trabalhadas pela equipe\n",
        "horas_trabalhadas_media = horas_trabalhadas_total / 7\n",
        "print('A Média de horas trabalhadas pela equipe foi de: %.2f' % horas_trabalhadas_media, 'horas')"
      ],
      "metadata": {
        "colab": {
          "base_uri": "https://localhost:8080/"
        },
        "id": "ZzLvIIZkervA",
        "outputId": "bc9d6027-6e75-4a20-adac-7f3cf05abf68"
      },
      "execution_count": 13,
      "outputs": [
        {
          "output_type": "stream",
          "name": "stdout",
          "text": [
            "A Média de horas trabalhadas pela equipe foi de: 6.14 horas\n"
          ]
        }
      ]
    },
    {
      "cell_type": "code",
      "source": [
        "# Criação do gráfico de horas trabalhadas durante a semana, por dia da semana\n",
        "# Setando figura e eixos\n",
        "fig, (ax1) = mpl.subplots(1, figsize=(10,4))\n",
        "ax1.bar(\n",
        "    dados_fornecidos['Dia'],\n",
        "    dados_fornecidos['Horas Trabalhadas'],\n",
        "    color='blue')\n",
        "\n",
        "# Setando a figura do gráfico\n",
        "ax1.set_title('Horas Trabalhadas durante a semana')\n",
        "\n",
        "# Mostrar o gráfico\n",
        "fig = mpl.gcf()\n",
        "mpl.show()\n"
      ],
      "metadata": {
        "colab": {
          "base_uri": "https://localhost:8080/",
          "height": 391
        },
        "id": "tIy75_SBgfkK",
        "outputId": "c0c5cf1f-a014-45ac-c82a-a8922a997627"
      },
      "execution_count": 21,
      "outputs": [
        {
          "output_type": "display_data",
          "data": {
            "text/plain": [
              "<Figure size 1000x400 with 1 Axes>"
            ],
            "image/png": "[encoded data removed]"
          },
          "metadata": {}
        }
      ]
    },
    {
      "cell_type": "markdown",
      "source": [
        "- Registrar o tempo de trabalho é extremamente importante para qualquer projeto. Ter noção de quanto tempo está sendo tomado é fundamental para saber se a eficiência da equipe está alta. Analisando os dados obtidos, temos as seguintes informações:\n",
        "\n",
        "- ° O total de horas trabalhadas pela equipe foi de **43 horas**.\n",
        "- ° Pico de horas atingido na **Quarta**, com um total de **8 horas**.\n",
        "- ° Menor número de horas registrado no **Domingo**, com **4 horas** no total.\n",
        "- ° Média diária de horas trabalhadas ficou em **6.14**"
      ],
      "metadata": {
        "id": "9Vleh_lhjC9V"
      }
    },
    {
      "cell_type": "markdown",
      "source": [
        "## **Bugs Corrigidos**"
      ],
      "metadata": {
        "id": "EHqlKPkZmtCQ"
      }
    },
    {
      "cell_type": "markdown",
      "source": [],
      "metadata": {
        "id": "Hh6mNnXYm0QU"
      }
    }
  ]
}